{
 "cells": [
  {
   "cell_type": "markdown",
   "id": "893e5769",
   "metadata": {},
   "source": [
    "# Preprocessing"
   ]
  },
  {
   "cell_type": "code",
   "execution_count": null,
   "id": "2180cd80",
   "metadata": {},
   "outputs": [],
   "source": [
    "import json\n",
    "import pandas as pd\n",
    "from tqdm import tqdm"
   ]
  },
  {
   "cell_type": "markdown",
   "id": "117f8073",
   "metadata": {},
   "source": [
    "## Loading the WIESP Training Jsonl file"
   ]
  },
  {
   "cell_type": "code",
   "execution_count": 2,
   "id": "5de4c5be-9598-4ae7-978e-2b9090862f0e",
   "metadata": {},
   "outputs": [],
   "source": [
    "import json\n",
    "with open(\"WIESP2022-NER-TRAINING.jsonl\", 'r') as f:\n",
    "    wiesp_dev_json = [json.loads(l) for l in list(f)]"
   ]
  },
  {
   "cell_type": "markdown",
   "id": "f3970e2e",
   "metadata": {},
   "source": [
    "## Keys in the Jsonl file - "
   ]
  },
  {
   "cell_type": "code",
   "execution_count": 3,
   "id": "8114117c-a7a0-428e-94d1-7aad961c60e9",
   "metadata": {},
   "outputs": [],
   "source": [
    "columns = list(wiesp_dev_json[0].keys())"
   ]
  },
  {
   "cell_type": "code",
   "execution_count": 4,
   "id": "2393ff82-659b-4e4e-a831-4dc9707c2fcf",
   "metadata": {},
   "outputs": [
    {
     "data": {
      "text/plain": [
       "['bibcode',\n",
       " 'label_studio_id',\n",
       " 'ner_ids',\n",
       " 'ner_tags',\n",
       " 'section',\n",
       " 'tokens',\n",
       " 'unique_id']"
      ]
     },
     "execution_count": 4,
     "metadata": {},
     "output_type": "execute_result"
    }
   ],
   "source": [
    "columns"
   ]
  },
  {
   "cell_type": "markdown",
   "id": "a670508c",
   "metadata": {},
   "source": [
    "## Converting Jsonl to DataFrame"
   ]
  },
  {
   "cell_type": "code",
   "execution_count": 8,
   "id": "96937336-d815-44a3-a505-a3814fae74d3",
   "metadata": {},
   "outputs": [],
   "source": [
    "df = pd.DataFrame(columns = columns)"
   ]
  },
  {
   "cell_type": "code",
   "execution_count": 9,
   "id": "cb519848-ba5f-46cb-9298-0962306685b3",
   "metadata": {},
   "outputs": [],
   "source": [
    "for row in tqdm(wiesp_dev_json):\n",
    "  df = df.append(pd.DataFrame(row))"
   ]
  },
  {
   "cell_type": "code",
   "execution_count": 12,
   "id": "d7c16243-b1e5-4c1b-bf20-cfe795b52095",
   "metadata": {},
   "outputs": [],
   "source": [
    "df.to_csv('WIESP2022-NER-TRAINING.csv', index=False)"
   ]
  },
  {
   "cell_type": "markdown",
   "id": "9e278f5f",
   "metadata": {},
   "source": [
    "## Saving dataframe as parquet file\n",
    "\n",
    "Parquet files have a very less size compared to the CSV files for the same amount of the data they contain. Hence, we will be working with parquet files throughout this project, as downloading parquet files from the GitHub repository will be faster. After converting jsonl to parquet we are storing the parquet file on the following GitHub repository.\n",
    "\n",
    "url - https://github.com/BhardwajAnshul/NER-Project"
   ]
  },
  {
   "cell_type": "code",
   "execution_count": 7,
   "id": "fedbbe6b-471a-4dba-a45b-2cf274afcaaa",
   "metadata": {},
   "outputs": [],
   "source": [
    "df.to_parquet('WIESP2022-NER-TRAINING.parquet', index=False)"
   ]
  },
  {
   "cell_type": "code",
   "execution_count": 3,
   "id": "e395eca6",
   "metadata": {},
   "outputs": [],
   "source": [
    "# Reading the training parquet file from github repository.\n",
    "df = pd.read_parquet('https://github.com/BhardwajAnshul/NER-Project/blob/main/WIESP_TRAINING_SPLITTED.parquet?raw=true')"
   ]
  },
  {
   "cell_type": "markdown",
   "id": "6bdab90f",
   "metadata": {},
   "source": [
    "### Defining functions for pre-processing\n",
    "\n",
    "1. For preprocessing we are replacing all the hyphen in the Dataset with whitespaces\n",
    "\n",
    "2. If there are years in the Dataset, we are replacing them with 'YEAR' token\n",
    "\n",
    "3. If any word has number inside it, we are replacing it with 'NUM' token\n",
    "\n",
    "4. We are also removing non-English characters such as (),.:;/[]\""
   ]
  },
  {
   "cell_type": "code",
   "execution_count": 5,
   "id": "2b346e69",
   "metadata": {},
   "outputs": [],
   "source": [
    "# replces hyphan with \" \"\n",
    "def replace_hyphen(value):\n",
    "    return value.replace('-', ' ').strip()\n",
    "\n",
    "# puts spaces around certain characters in token. eg. a(b will become a ( b\n",
    "chars = '(),.:;/[]\"='\n",
    "def put_space_around_chars(value):\n",
    "    for char in chars:\n",
    "        value =  value.replace(char, f' {char} ')\n",
    "    return value.strip()\n",
    "\n",
    "# checks if a token has number in it.\n",
    "def containsNumber(value):\n",
    "    for character in value:\n",
    "        if character.isdigit():\n",
    "            return True\n",
    "    return False\n",
    "\n",
    "# checks if a token is Year. Year range : 1900 to 2030\n",
    "def isYear(value):\n",
    "    value = value.replace('-', '').strip()\n",
    "    if value.isdigit():\n",
    "        if 1900<=int(value)<=2030:\n",
    "            return True\n",
    "    return False"
   ]
  },
  {
   "cell_type": "code",
   "execution_count": 6,
   "id": "b6c3595e",
   "metadata": {},
   "outputs": [],
   "source": [
    "# Applying the above defined functions on DataFrame\n",
    "df['tokens'] = [replace_hyphan(word) for word in df.tokens]\n",
    "df['tokens'] = [put_space_around_chars(word) for word in df.tokens]\n",
    "df[\"tokens\"] = df[\"tokens\"].str.split(\" \")\n",
    "df = df.explode(\"tokens\").reset_index(drop=True)\n",
    "df['tokens'] = ['<YEAR>' if isYear(word) else word for word in df.tokens]\n",
    "df['tokens'] = ['<NUM>' if containsNumber(word) else word for word in df.tokens]"
   ]
  },
  {
   "cell_type": "code",
   "execution_count": 8,
   "id": "a6af7348",
   "metadata": {},
   "outputs": [],
   "source": [
    "# saving dataframe to parquet file\n",
    "df.to_parquet('WIESP_TRAINING_PREPROCESSED.parquet', index=False)"
   ]
  },
  {
   "cell_type": "code",
   "execution_count": null,
   "id": "46ccf367",
   "metadata": {},
   "outputs": [],
   "source": []
  }
 ],
 "metadata": {
  "kernelspec": {
   "display_name": "Python 3",
   "language": "python",
   "name": "python3"
  },
  "language_info": {
   "codemirror_mode": {
    "name": "ipython",
    "version": 3
   },
   "file_extension": ".py",
   "mimetype": "text/x-python",
   "name": "python",
   "nbconvert_exporter": "python",
   "pygments_lexer": "ipython3",
   "version": "3.7.10"
  }
 },
 "nbformat": 4,
 "nbformat_minor": 5
}
