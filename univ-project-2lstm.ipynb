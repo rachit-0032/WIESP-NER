{
  "cells": [
    {
      "cell_type": "code",
      "execution_count": 1,
      "metadata": {
        "id": "QLZbTjXur0_o"
      },
      "outputs": [],
      "source": [
        "import numpy as np\n",
        "import pandas as pd\n",
        "import matplotlib.pyplot as plt\n",
        "\n",
        "import tensorflow as tf\n",
        "from sklearn.model_selection import train_test_split\n",
        "from tensorflow.keras import Model\n",
        "from tensorflow.keras.layers import Input, Embedding, Dense, SimpleRNN\n",
        "\n",
        "from sklearn.preprocessing import LabelEncoder\n",
        "from sklearn.metrics import classification_report\n",
        "\n",
        "from pprint import pprint\n",
        "import re"
      ]
    },
    {
      "cell_type": "code",
      "execution_count": 2,
      "metadata": {
        "colab": {
          "base_uri": "https://localhost:8080/"
        },
        "id": "dEPR9fxFsEL2",
        "outputId": "5aaddda7-1cf4-4e1c-c2b9-aae01c3f569a"
      },
      "outputs": [
        {
          "output_type": "stream",
          "name": "stdout",
          "text": [
            "               bibcode  label_studio_id  ner_ids ner_tags   section  \\\n",
            "0  2019MNRAS.486.5558S              487       62        O  fulltext   \n",
            "1  2019MNRAS.486.5558S              487       62        O  fulltext   \n",
            "2  2019MNRAS.486.5558S              487       62        O  fulltext   \n",
            "3  2019MNRAS.486.5558S              487       62        O  fulltext   \n",
            "4  2019MNRAS.486.5558S              487       62        O  fulltext   \n",
            "\n",
            "       tokens                         unique_id  is_starttoken  sentence_id  \n",
            "0      Whilst  fulltext_487_2019MNRAS.486.5558S              0            0  \n",
            "1           a  fulltext_487_2019MNRAS.486.5558S              0            0  \n",
            "2  reasonable  fulltext_487_2019MNRAS.486.5558S              0            0  \n",
            "3    harmonic  fulltext_487_2019MNRAS.486.5558S              0            0  \n",
            "4         fit  fulltext_487_2019MNRAS.486.5558S              0            0  \n"
          ]
        }
      ],
      "source": [
        "## Getting data.\n",
        "# df_train = pd.read_parquet('https://github.com/BhardwajAnshul/NER-Project/blob/main/data/WIESP2022-NER-TRAINING.parquet?raw=true')\n",
        "# df_train = pd.read_parquet('https://github.com/BhardwajAnshul/NER-Project/blob/main/WIESP_TRAINING_PREPROCESSED.parquet?raw=true')\n",
        "df_train = pd.read_parquet('https://github.com/BhardwajAnshul/NER-Project/blob/main/WIESP_TRAINING_SPLITTED.parquet?raw=true')\n",
        "# df_val = pd.read_parquet('https://github.com/BhardwajAnshul/NER-Project/blob/main/data/WIESP2022-NER-DEV.parquet?raw=true')\n",
        "# df_test = pd.read_parquet('https://github.com/BhardwajAnshul/NER-Project/blob/main/data/WIESP2022-NER-VALIDATION-NO-LABELS.parquet?raw=true')\n",
        "print(df_train.head())"
      ]
    },
    {
      "cell_type": "markdown",
      "source": [
        "\n",
        "## Pre-Processing\n",
        "---\n",
        "\n"
      ],
      "metadata": {
        "id": "GfQQYTrsk83Y"
      }
    },
    {
      "cell_type": "code",
      "source": [
        "## Import libraries required to load Word2Vec embeddings without running out of RAM on Colab.\n",
        "import gzip\n",
        "import json\n",
        "\n",
        "import gensim\n",
        "from gensim.models import word2vec\n",
        "from gensim.models import KeyedVectors\n",
        "\n",
        "# Your code here\n",
        "\n",
        "## Download Word2Vec.\n",
        "# !wget https://github.com/dlops-io/datasets/releases/download/v1.0/GoogleNews-vectors-negative300.bin.gz"
      ],
      "metadata": {
        "id": "NxfuyesKk8k5"
      },
      "execution_count": 3,
      "outputs": []
    },
    {
      "cell_type": "code",
      "source": [
        "## Read the Word2Vec embeddings.\n",
        "## Ref: https://colab.research.google.com/github/shankygupta79/GoogleCollabFiles/blob/master/Word2Vec.ipynb\n",
        "# EMBEDDING_FILE = 'GoogleNews-vectors-negative300.bin.gz'\n",
        "# word_vectors = KeyedVectors.load_word2vec_format(EMBEDDING_FILE, binary=True)\n",
        "\n",
        "# word2vec_vocab = list(word_vectors.vocab)"
      ],
      "metadata": {
        "id": "eiMesL0gmRCT"
      },
      "execution_count": 4,
      "outputs": []
    },
    {
      "cell_type": "code",
      "execution_count": 5,
      "metadata": {
        "colab": {
          "base_uri": "https://localhost:8080/"
        },
        "id": "Dj_urPTLJtHH",
        "outputId": "9be7a778-a21c-41ba-86f6-f6dd51edd5e3"
      },
      "outputs": [
        {
          "output_type": "execute_result",
          "data": {
            "text/plain": [
              "Index(['bibcode', 'label_studio_id', 'ner_ids', 'ner_tags', 'section',\n",
              "       'tokens', 'unique_id', 'is_starttoken', 'sentence_id'],\n",
              "      dtype='object')"
            ]
          },
          "metadata": {},
          "execution_count": 5
        }
      ],
      "source": [
        "df_train.columns"
      ]
    },
    {
      "cell_type": "code",
      "execution_count": 6,
      "metadata": {
        "colab": {
          "base_uri": "https://localhost:8080/"
        },
        "id": "w_YRhynY6gA5",
        "outputId": "33ef8fe5-c33e-4dbb-fd11-7350eb884c2a"
      },
      "outputs": [
        {
          "output_type": "stream",
          "name": "stdout",
          "text": [
            "Training Data has shape:  (573132, 9)\n"
          ]
        }
      ],
      "source": [
        "print('Training Data has shape: ', df_train.shape)"
      ]
    },
    {
      "cell_type": "code",
      "execution_count": 7,
      "metadata": {
        "colab": {
          "base_uri": "https://localhost:8080/"
        },
        "id": "977UeMXVSwpA",
        "outputId": "2eb3d034-35d8-4229-86d0-520d82305b62"
      },
      "outputs": [
        {
          "output_type": "stream",
          "name": "stdout",
          "text": [
            "Training Data has shape:  (560852, 9)\n"
          ]
        }
      ],
      "source": [
        "df_train = df_train[~df_train['tokens'].isin(list('?$#@./|:()\",;[]{}-'))]\n",
        "print('Training Data has shape: ', df_train.shape)"
      ]
    },
    {
      "cell_type": "code",
      "execution_count": 8,
      "metadata": {
        "id": "WdvISG3huCvj"
      },
      "outputs": [],
      "source": [
        "## Creating an index mapping for easier understanding.\n",
        "def index_mapper(df, train=False):\n",
        "  if not train:\n",
        "      num_sentences = df['bibcode'].unique()\n",
        "      index = np.arange(1, len(num_sentences)+1, 1)\n",
        "      index_dict = dict(zip(num_sentences, index))\n",
        "\n",
        "      index_mapping = [index_dict[bibcode] for bibcode in df['bibcode']]\n",
        "      df['index'] = index_mapping\n",
        "      df.set_index('index', inplace=True)\n",
        "  else:\n",
        "      df.set_index('sentence_id', inplace=True)\n",
        "  return df\n",
        "\n",
        "df_train = index_mapper(df_train, train=False)\n",
        "# df_val = index_mapper(df_val)\n",
        "# df_test = index_mapper(df_test)"
      ]
    },
    {
      "cell_type": "code",
      "execution_count": 9,
      "metadata": {
        "colab": {
          "base_uri": "https://localhost:8080/",
          "height": 231
        },
        "id": "dGAzTZocxWTq",
        "outputId": "ae380748-f045-4ae3-b5ce-bb36a5bf231c"
      },
      "outputs": [
        {
          "output_type": "execute_result",
          "data": {
            "text/plain": [
              "           tokens ner_tags\n",
              "index                     \n",
              "1          Whilst        O\n",
              "1               a        O\n",
              "1      reasonable        O\n",
              "1        harmonic        O\n",
              "1             fit        O"
            ],
            "text/html": [
              "\n",
              "  <div id=\"df-235e9334-2952-4200-827f-a6733e00a2d5\">\n",
              "    <div class=\"colab-df-container\">\n",
              "      <div>\n",
              "<style scoped>\n",
              "    .dataframe tbody tr th:only-of-type {\n",
              "        vertical-align: middle;\n",
              "    }\n",
              "\n",
              "    .dataframe tbody tr th {\n",
              "        vertical-align: top;\n",
              "    }\n",
              "\n",
              "    .dataframe thead th {\n",
              "        text-align: right;\n",
              "    }\n",
              "</style>\n",
              "<table border=\"1\" class=\"dataframe\">\n",
              "  <thead>\n",
              "    <tr style=\"text-align: right;\">\n",
              "      <th></th>\n",
              "      <th>tokens</th>\n",
              "      <th>ner_tags</th>\n",
              "    </tr>\n",
              "    <tr>\n",
              "      <th>index</th>\n",
              "      <th></th>\n",
              "      <th></th>\n",
              "    </tr>\n",
              "  </thead>\n",
              "  <tbody>\n",
              "    <tr>\n",
              "      <th>1</th>\n",
              "      <td>Whilst</td>\n",
              "      <td>O</td>\n",
              "    </tr>\n",
              "    <tr>\n",
              "      <th>1</th>\n",
              "      <td>a</td>\n",
              "      <td>O</td>\n",
              "    </tr>\n",
              "    <tr>\n",
              "      <th>1</th>\n",
              "      <td>reasonable</td>\n",
              "      <td>O</td>\n",
              "    </tr>\n",
              "    <tr>\n",
              "      <th>1</th>\n",
              "      <td>harmonic</td>\n",
              "      <td>O</td>\n",
              "    </tr>\n",
              "    <tr>\n",
              "      <th>1</th>\n",
              "      <td>fit</td>\n",
              "      <td>O</td>\n",
              "    </tr>\n",
              "  </tbody>\n",
              "</table>\n",
              "</div>\n",
              "      <button class=\"colab-df-convert\" onclick=\"convertToInteractive('df-235e9334-2952-4200-827f-a6733e00a2d5')\"\n",
              "              title=\"Convert this dataframe to an interactive table.\"\n",
              "              style=\"display:none;\">\n",
              "        \n",
              "  <svg xmlns=\"http://www.w3.org/2000/svg\" height=\"24px\"viewBox=\"0 0 24 24\"\n",
              "       width=\"24px\">\n",
              "    <path d=\"M0 0h24v24H0V0z\" fill=\"none\"/>\n",
              "    <path d=\"M18.56 5.44l.94 2.06.94-2.06 2.06-.94-2.06-.94-.94-2.06-.94 2.06-2.06.94zm-11 1L8.5 8.5l.94-2.06 2.06-.94-2.06-.94L8.5 2.5l-.94 2.06-2.06.94zm10 10l.94 2.06.94-2.06 2.06-.94-2.06-.94-.94-2.06-.94 2.06-2.06.94z\"/><path d=\"M17.41 7.96l-1.37-1.37c-.4-.4-.92-.59-1.43-.59-.52 0-1.04.2-1.43.59L10.3 9.45l-7.72 7.72c-.78.78-.78 2.05 0 2.83L4 21.41c.39.39.9.59 1.41.59.51 0 1.02-.2 1.41-.59l7.78-7.78 2.81-2.81c.8-.78.8-2.07 0-2.86zM5.41 20L4 18.59l7.72-7.72 1.47 1.35L5.41 20z\"/>\n",
              "  </svg>\n",
              "      </button>\n",
              "      \n",
              "  <style>\n",
              "    .colab-df-container {\n",
              "      display:flex;\n",
              "      flex-wrap:wrap;\n",
              "      gap: 12px;\n",
              "    }\n",
              "\n",
              "    .colab-df-convert {\n",
              "      background-color: #E8F0FE;\n",
              "      border: none;\n",
              "      border-radius: 50%;\n",
              "      cursor: pointer;\n",
              "      display: none;\n",
              "      fill: #1967D2;\n",
              "      height: 32px;\n",
              "      padding: 0 0 0 0;\n",
              "      width: 32px;\n",
              "    }\n",
              "\n",
              "    .colab-df-convert:hover {\n",
              "      background-color: #E2EBFA;\n",
              "      box-shadow: 0px 1px 2px rgba(60, 64, 67, 0.3), 0px 1px 3px 1px rgba(60, 64, 67, 0.15);\n",
              "      fill: #174EA6;\n",
              "    }\n",
              "\n",
              "    [theme=dark] .colab-df-convert {\n",
              "      background-color: #3B4455;\n",
              "      fill: #D2E3FC;\n",
              "    }\n",
              "\n",
              "    [theme=dark] .colab-df-convert:hover {\n",
              "      background-color: #434B5C;\n",
              "      box-shadow: 0px 1px 3px 1px rgba(0, 0, 0, 0.15);\n",
              "      filter: drop-shadow(0px 1px 2px rgba(0, 0, 0, 0.3));\n",
              "      fill: #FFFFFF;\n",
              "    }\n",
              "  </style>\n",
              "\n",
              "      <script>\n",
              "        const buttonEl =\n",
              "          document.querySelector('#df-235e9334-2952-4200-827f-a6733e00a2d5 button.colab-df-convert');\n",
              "        buttonEl.style.display =\n",
              "          google.colab.kernel.accessAllowed ? 'block' : 'none';\n",
              "\n",
              "        async function convertToInteractive(key) {\n",
              "          const element = document.querySelector('#df-235e9334-2952-4200-827f-a6733e00a2d5');\n",
              "          const dataTable =\n",
              "            await google.colab.kernel.invokeFunction('convertToInteractive',\n",
              "                                                     [key], {});\n",
              "          if (!dataTable) return;\n",
              "\n",
              "          const docLinkHtml = 'Like what you see? Visit the ' +\n",
              "            '<a target=\"_blank\" href=https://colab.research.google.com/notebooks/data_table.ipynb>data table notebook</a>'\n",
              "            + ' to learn more about interactive tables.';\n",
              "          element.innerHTML = '';\n",
              "          dataTable['output_type'] = 'display_data';\n",
              "          await google.colab.output.renderOutput(dataTable, element);\n",
              "          const docLink = document.createElement('div');\n",
              "          docLink.innerHTML = docLinkHtml;\n",
              "          element.appendChild(docLink);\n",
              "        }\n",
              "      </script>\n",
              "    </div>\n",
              "  </div>\n",
              "  "
            ]
          },
          "metadata": {},
          "execution_count": 9
        }
      ],
      "source": [
        "## Choose only necessary columns.\n",
        "df_train_sel = df_train[['tokens', 'ner_tags']]\n",
        "# df_val_sel = df_val[['tokens', 'ner_tags']]\n",
        "# df_test_sel = df_test[['tokens']]\n",
        "df_train_sel.head()"
      ]
    },
    {
      "cell_type": "code",
      "source": [
        "df_train_sel['capital'] = df_train_sel.tokens.apply(lambda x: bool(re.findall(r'^[A-Z]+', x)))"
      ],
      "metadata": {
        "colab": {
          "base_uri": "https://localhost:8080/"
        },
        "id": "WwKXEK2hmYdX",
        "outputId": "96b3fcd0-5875-4056-a32c-42b992a2287a"
      },
      "execution_count": 10,
      "outputs": [
        {
          "output_type": "stream",
          "name": "stderr",
          "text": [
            "/usr/local/lib/python3.7/dist-packages/ipykernel_launcher.py:1: SettingWithCopyWarning: \n",
            "A value is trying to be set on a copy of a slice from a DataFrame.\n",
            "Try using .loc[row_indexer,col_indexer] = value instead\n",
            "\n",
            "See the caveats in the documentation: https://pandas.pydata.org/pandas-docs/stable/user_guide/indexing.html#returning-a-view-versus-a-copy\n",
            "  \"\"\"Entry point for launching an IPython kernel.\n"
          ]
        }
      ]
    },
    {
      "cell_type": "code",
      "source": [
        "caps = list(df_train_sel[df_train_sel['capital'] == True]['tokens'].values)"
      ],
      "metadata": {
        "id": "wR4FnRaxrmDH"
      },
      "execution_count": 11,
      "outputs": []
    },
    {
      "cell_type": "code",
      "source": [
        "# count = 0\n",
        "# for word in caps:\n",
        "#   if word not in word2vec_vocab:\n",
        "#     count += 1"
      ],
      "metadata": {
        "id": "wqElyzQTr7fy"
      },
      "execution_count": 12,
      "outputs": []
    },
    {
      "cell_type": "code",
      "source": [
        "# count"
      ],
      "metadata": {
        "id": "r5xf5tqzr1GW"
      },
      "execution_count": 13,
      "outputs": []
    },
    {
      "cell_type": "code",
      "source": [
        "import gc\n",
        "gc.collect()"
      ],
      "metadata": {
        "colab": {
          "base_uri": "https://localhost:8080/"
        },
        "id": "Ugx3eYyYsIZK",
        "outputId": "a32bae3e-a5fe-4d9c-e5aa-54efa841b875"
      },
      "execution_count": 14,
      "outputs": [
        {
          "output_type": "execute_result",
          "data": {
            "text/plain": [
              "163"
            ]
          },
          "metadata": {},
          "execution_count": 14
        }
      ]
    },
    {
      "cell_type": "code",
      "source": [
        "# df_train_sel[(df_train_sel['capital'] == True) & ((df_train_sel['ner_tags'] == 'B-citation') | (df_train_sel['ner_tags'] == 'I-citation'))]"
      ],
      "metadata": {
        "id": "gX1EacQSmYXj"
      },
      "execution_count": 15,
      "outputs": []
    },
    {
      "cell_type": "code",
      "source": [
        ""
      ],
      "metadata": {
        "id": "PwIgcq3wmYU-"
      },
      "execution_count": 15,
      "outputs": []
    },
    {
      "cell_type": "code",
      "execution_count": 16,
      "metadata": {
        "id": "Kpa5Cd_tSwpB"
      },
      "outputs": [],
      "source": [
        "classes = list(df_train_sel.ner_tags.unique())\n",
        "classes_without_o = classes[1:]"
      ]
    },
    {
      "cell_type": "code",
      "execution_count": 17,
      "metadata": {
        "colab": {
          "base_uri": "https://localhost:8080/"
        },
        "id": "axGz-B58SwpB",
        "outputId": "1be5916f-42b0-410c-f082-6e593348bd3c"
      },
      "outputs": [
        {
          "output_type": "execute_result",
          "data": {
            "text/plain": [
              "tokens      0\n",
              "ner_tags    0\n",
              "capital     0\n",
              "dtype: int64"
            ]
          },
          "metadata": {},
          "execution_count": 17
        }
      ],
      "source": [
        "df_train_sel.isna().sum()"
      ]
    },
    {
      "cell_type": "code",
      "execution_count": 18,
      "metadata": {
        "colab": {
          "base_uri": "https://localhost:8080/",
          "height": 389
        },
        "id": "AAMByX58sqjc",
        "outputId": "7dba7c56-1cce-4d07-c683-6754aec33648"
      },
      "outputs": [
        {
          "output_type": "display_data",
          "data": {
            "text/plain": [
              "<Figure size 1800x432 with 1 Axes>"
            ],
            "image/png": "[encoded data removed]"
          },
          "metadata": {
            "needs_background": "light"
          }
        },
        {
          "output_type": "stream",
          "name": "stdout",
          "text": [
            "The number of sentences in the dataframe are:  1723\n"
          ]
        }
      ],
      "source": [
        "# Plot length of the sentences.\n",
        "index, length = np.unique(df_train_sel.index, return_counts=True)\n",
        "fig, ax = plt.subplots(figsize=[25,6])\n",
        "N, bins, patches = ax.hist(length, bins=100)\n",
        "plt.show()\n",
        "\n",
        "print('The number of sentences in the dataframe are: ', len(length))   ## Number of sentences"
      ]
    },
    {
      "cell_type": "code",
      "execution_count": 19,
      "metadata": {
        "id": "TlNVYS6gzYQZ"
      },
      "outputs": [],
      "source": [
        "## Finding suitable sentences.\n",
        "# b1 = length>10\n",
        "# b2 = length<200\n",
        "# b3 = length>420\n",
        "# b4 = length<600\n",
        "\n",
        "b1 = length>10\n",
        "b2 = length<620\n",
        "\n",
        "# b5 = np.logical_and(b1, b2)\n",
        "# b6 = np.logical_and(b3, b4)\n",
        "# b7 = np.logical_or(np.logical_and(b1, b2), np.logical_and(b3, b4))\n",
        "\n",
        "b7 = np.logical_and(b1, b2)"
      ]
    },
    {
      "cell_type": "code",
      "execution_count": 20,
      "metadata": {
        "colab": {
          "base_uri": "https://localhost:8080/"
        },
        "id": "2SSdNjFFyZ2R",
        "outputId": "def0c24b-ef27-4290-cb96-1d533cda3bb6"
      },
      "outputs": [
        {
          "output_type": "stream",
          "name": "stdout",
          "text": [
            "The number of sentences in the dataframe are:  1697\n"
          ]
        }
      ],
      "source": [
        "## Chossing neccessary sentences.\n",
        "index = index[b7]\n",
        "length = length[b7]\n",
        "df_train_sel = df_train_sel.loc[index]\n",
        "print('The number of sentences in the dataframe are: ', len(length))   ## Number of sentences"
      ]
    },
    {
      "cell_type": "code",
      "execution_count": 21,
      "metadata": {
        "id": "OGtWrMuFyT6S"
      },
      "outputs": [],
      "source": [
        "# ## Splitting Data into Training and Validation.\n",
        "# index = np.unique(df_train.index)\n",
        "\n",
        "# train_index, val_index = train_test_split(index, train_size=0.8, random_state=1)\n",
        "\n",
        "# df_train = df_train.loc[train_index]\n",
        "# df_val = df_train.loc[val_index]"
      ]
    },
    {
      "cell_type": "code",
      "execution_count": 22,
      "metadata": {
        "colab": {
          "base_uri": "https://localhost:8080/",
          "height": 201
        },
        "id": "Ik7SUbmXJtHJ",
        "outputId": "831bb049-5255-475a-f539-484c9c8bde09"
      },
      "outputs": [
        {
          "output_type": "execute_result",
          "data": {
            "text/plain": [
              "   index      tokens ner_tags  capital\n",
              "0      1      Whilst        O     True\n",
              "1      1           a        O    False\n",
              "2      1  reasonable        O    False\n",
              "3      1    harmonic        O    False\n",
              "4      1         fit        O    False"
            ],
            "text/html": [
              "\n",
              "  <div id=\"df-deb818c2-ab55-4745-bac3-7e4fdbccbbcd\">\n",
              "    <div class=\"colab-df-container\">\n",
              "      <div>\n",
              "<style scoped>\n",
              "    .dataframe tbody tr th:only-of-type {\n",
              "        vertical-align: middle;\n",
              "    }\n",
              "\n",
              "    .dataframe tbody tr th {\n",
              "        vertical-align: top;\n",
              "    }\n",
              "\n",
              "    .dataframe thead th {\n",
              "        text-align: right;\n",
              "    }\n",
              "</style>\n",
              "<table border=\"1\" class=\"dataframe\">\n",
              "  <thead>\n",
              "    <tr style=\"text-align: right;\">\n",
              "      <th></th>\n",
              "      <th>index</th>\n",
              "      <th>tokens</th>\n",
              "      <th>ner_tags</th>\n",
              "      <th>capital</th>\n",
              "    </tr>\n",
              "  </thead>\n",
              "  <tbody>\n",
              "    <tr>\n",
              "      <th>0</th>\n",
              "      <td>1</td>\n",
              "      <td>Whilst</td>\n",
              "      <td>O</td>\n",
              "      <td>True</td>\n",
              "    </tr>\n",
              "    <tr>\n",
              "      <th>1</th>\n",
              "      <td>1</td>\n",
              "      <td>a</td>\n",
              "      <td>O</td>\n",
              "      <td>False</td>\n",
              "    </tr>\n",
              "    <tr>\n",
              "      <th>2</th>\n",
              "      <td>1</td>\n",
              "      <td>reasonable</td>\n",
              "      <td>O</td>\n",
              "      <td>False</td>\n",
              "    </tr>\n",
              "    <tr>\n",
              "      <th>3</th>\n",
              "      <td>1</td>\n",
              "      <td>harmonic</td>\n",
              "      <td>O</td>\n",
              "      <td>False</td>\n",
              "    </tr>\n",
              "    <tr>\n",
              "      <th>4</th>\n",
              "      <td>1</td>\n",
              "      <td>fit</td>\n",
              "      <td>O</td>\n",
              "      <td>False</td>\n",
              "    </tr>\n",
              "  </tbody>\n",
              "</table>\n",
              "</div>\n",
              "      <button class=\"colab-df-convert\" onclick=\"convertToInteractive('df-deb818c2-ab55-4745-bac3-7e4fdbccbbcd')\"\n",
              "              title=\"Convert this dataframe to an interactive table.\"\n",
              "              style=\"display:none;\">\n",
              "        \n",
              "  <svg xmlns=\"http://www.w3.org/2000/svg\" height=\"24px\"viewBox=\"0 0 24 24\"\n",
              "       width=\"24px\">\n",
              "    <path d=\"M0 0h24v24H0V0z\" fill=\"none\"/>\n",
              "    <path d=\"M18.56 5.44l.94 2.06.94-2.06 2.06-.94-2.06-.94-.94-2.06-.94 2.06-2.06.94zm-11 1L8.5 8.5l.94-2.06 2.06-.94-2.06-.94L8.5 2.5l-.94 2.06-2.06.94zm10 10l.94 2.06.94-2.06 2.06-.94-2.06-.94-.94-2.06-.94 2.06-2.06.94z\"/><path d=\"M17.41 7.96l-1.37-1.37c-.4-.4-.92-.59-1.43-.59-.52 0-1.04.2-1.43.59L10.3 9.45l-7.72 7.72c-.78.78-.78 2.05 0 2.83L4 21.41c.39.39.9.59 1.41.59.51 0 1.02-.2 1.41-.59l7.78-7.78 2.81-2.81c.8-.78.8-2.07 0-2.86zM5.41 20L4 18.59l7.72-7.72 1.47 1.35L5.41 20z\"/>\n",
              "  </svg>\n",
              "      </button>\n",
              "      \n",
              "  <style>\n",
              "    .colab-df-container {\n",
              "      display:flex;\n",
              "      flex-wrap:wrap;\n",
              "      gap: 12px;\n",
              "    }\n",
              "\n",
              "    .colab-df-convert {\n",
              "      background-color: #E8F0FE;\n",
              "      border: none;\n",
              "      border-radius: 50%;\n",
              "      cursor: pointer;\n",
              "      display: none;\n",
              "      fill: #1967D2;\n",
              "      height: 32px;\n",
              "      padding: 0 0 0 0;\n",
              "      width: 32px;\n",
              "    }\n",
              "\n",
              "    .colab-df-convert:hover {\n",
              "      background-color: #E2EBFA;\n",
              "      box-shadow: 0px 1px 2px rgba(60, 64, 67, 0.3), 0px 1px 3px 1px rgba(60, 64, 67, 0.15);\n",
              "      fill: #174EA6;\n",
              "    }\n",
              "\n",
              "    [theme=dark] .colab-df-convert {\n",
              "      background-color: #3B4455;\n",
              "      fill: #D2E3FC;\n",
              "    }\n",
              "\n",
              "    [theme=dark] .colab-df-convert:hover {\n",
              "      background-color: #434B5C;\n",
              "      box-shadow: 0px 1px 3px 1px rgba(0, 0, 0, 0.15);\n",
              "      filter: drop-shadow(0px 1px 2px rgba(0, 0, 0, 0.3));\n",
              "      fill: #FFFFFF;\n",
              "    }\n",
              "  </style>\n",
              "\n",
              "      <script>\n",
              "        const buttonEl =\n",
              "          document.querySelector('#df-deb818c2-ab55-4745-bac3-7e4fdbccbbcd button.colab-df-convert');\n",
              "        buttonEl.style.display =\n",
              "          google.colab.kernel.accessAllowed ? 'block' : 'none';\n",
              "\n",
              "        async function convertToInteractive(key) {\n",
              "          const element = document.querySelector('#df-deb818c2-ab55-4745-bac3-7e4fdbccbbcd');\n",
              "          const dataTable =\n",
              "            await google.colab.kernel.invokeFunction('convertToInteractive',\n",
              "                                                     [key], {});\n",
              "          if (!dataTable) return;\n",
              "\n",
              "          const docLinkHtml = 'Like what you see? Visit the ' +\n",
              "            '<a target=\"_blank\" href=https://colab.research.google.com/notebooks/data_table.ipynb>data table notebook</a>'\n",
              "            + ' to learn more about interactive tables.';\n",
              "          element.innerHTML = '';\n",
              "          dataTable['output_type'] = 'display_data';\n",
              "          await google.colab.output.renderOutput(dataTable, element);\n",
              "          const docLink = document.createElement('div');\n",
              "          docLink.innerHTML = docLinkHtml;\n",
              "          element.appendChild(docLink);\n",
              "        }\n",
              "      </script>\n",
              "    </div>\n",
              "  </div>\n",
              "  "
            ]
          },
          "metadata": {},
          "execution_count": 22
        }
      ],
      "source": [
        "df_train_bert = df_train_sel.reset_index()\n",
        "df_train_bert.head()"
      ]
    },
    {
      "cell_type": "code",
      "execution_count": 22,
      "metadata": {
        "id": "IxwrD7ZzJtHK"
      },
      "outputs": [],
      "source": [
        ""
      ]
    },
    {
      "cell_type": "code",
      "execution_count": 22,
      "metadata": {
        "id": "-h6cCDOLJtHK"
      },
      "outputs": [],
      "source": [
        ""
      ]
    },
    {
      "cell_type": "code",
      "execution_count": 23,
      "metadata": {
        "colab": {
          "base_uri": "https://localhost:8080/",
          "height": 231
        },
        "id": "WMvPmqUE4gOl",
        "outputId": "2b698127-da39-4e79-82b4-fd923360a1d9"
      },
      "outputs": [
        {
          "output_type": "execute_result",
          "data": {
            "text/plain": [
              "           tokens  ner_tags  capital\n",
              "index                               \n",
              "1          Whilst        62     True\n",
              "1               a        62    False\n",
              "1      reasonable        62    False\n",
              "1        harmonic        62    False\n",
              "1             fit        62    False"
            ],
            "text/html": [
              "\n",
              "  <div id=\"df-13013f9f-ab78-49fa-a81d-6478b94d13ce\">\n",
              "    <div class=\"colab-df-container\">\n",
              "      <div>\n",
              "<style scoped>\n",
              "    .dataframe tbody tr th:only-of-type {\n",
              "        vertical-align: middle;\n",
              "    }\n",
              "\n",
              "    .dataframe tbody tr th {\n",
              "        vertical-align: top;\n",
              "    }\n",
              "\n",
              "    .dataframe thead th {\n",
              "        text-align: right;\n",
              "    }\n",
              "</style>\n",
              "<table border=\"1\" class=\"dataframe\">\n",
              "  <thead>\n",
              "    <tr style=\"text-align: right;\">\n",
              "      <th></th>\n",
              "      <th>tokens</th>\n",
              "      <th>ner_tags</th>\n",
              "      <th>capital</th>\n",
              "    </tr>\n",
              "    <tr>\n",
              "      <th>index</th>\n",
              "      <th></th>\n",
              "      <th></th>\n",
              "      <th></th>\n",
              "    </tr>\n",
              "  </thead>\n",
              "  <tbody>\n",
              "    <tr>\n",
              "      <th>1</th>\n",
              "      <td>Whilst</td>\n",
              "      <td>62</td>\n",
              "      <td>True</td>\n",
              "    </tr>\n",
              "    <tr>\n",
              "      <th>1</th>\n",
              "      <td>a</td>\n",
              "      <td>62</td>\n",
              "      <td>False</td>\n",
              "    </tr>\n",
              "    <tr>\n",
              "      <th>1</th>\n",
              "      <td>reasonable</td>\n",
              "      <td>62</td>\n",
              "      <td>False</td>\n",
              "    </tr>\n",
              "    <tr>\n",
              "      <th>1</th>\n",
              "      <td>harmonic</td>\n",
              "      <td>62</td>\n",
              "      <td>False</td>\n",
              "    </tr>\n",
              "    <tr>\n",
              "      <th>1</th>\n",
              "      <td>fit</td>\n",
              "      <td>62</td>\n",
              "      <td>False</td>\n",
              "    </tr>\n",
              "  </tbody>\n",
              "</table>\n",
              "</div>\n",
              "      <button class=\"colab-df-convert\" onclick=\"convertToInteractive('df-13013f9f-ab78-49fa-a81d-6478b94d13ce')\"\n",
              "              title=\"Convert this dataframe to an interactive table.\"\n",
              "              style=\"display:none;\">\n",
              "        \n",
              "  <svg xmlns=\"http://www.w3.org/2000/svg\" height=\"24px\"viewBox=\"0 0 24 24\"\n",
              "       width=\"24px\">\n",
              "    <path d=\"M0 0h24v24H0V0z\" fill=\"none\"/>\n",
              "    <path d=\"M18.56 5.44l.94 2.06.94-2.06 2.06-.94-2.06-.94-.94-2.06-.94 2.06-2.06.94zm-11 1L8.5 8.5l.94-2.06 2.06-.94-2.06-.94L8.5 2.5l-.94 2.06-2.06.94zm10 10l.94 2.06.94-2.06 2.06-.94-2.06-.94-.94-2.06-.94 2.06-2.06.94z\"/><path d=\"M17.41 7.96l-1.37-1.37c-.4-.4-.92-.59-1.43-.59-.52 0-1.04.2-1.43.59L10.3 9.45l-7.72 7.72c-.78.78-.78 2.05 0 2.83L4 21.41c.39.39.9.59 1.41.59.51 0 1.02-.2 1.41-.59l7.78-7.78 2.81-2.81c.8-.78.8-2.07 0-2.86zM5.41 20L4 18.59l7.72-7.72 1.47 1.35L5.41 20z\"/>\n",
              "  </svg>\n",
              "      </button>\n",
              "      \n",
              "  <style>\n",
              "    .colab-df-container {\n",
              "      display:flex;\n",
              "      flex-wrap:wrap;\n",
              "      gap: 12px;\n",
              "    }\n",
              "\n",
              "    .colab-df-convert {\n",
              "      background-color: #E8F0FE;\n",
              "      border: none;\n",
              "      border-radius: 50%;\n",
              "      cursor: pointer;\n",
              "      display: none;\n",
              "      fill: #1967D2;\n",
              "      height: 32px;\n",
              "      padding: 0 0 0 0;\n",
              "      width: 32px;\n",
              "    }\n",
              "\n",
              "    .colab-df-convert:hover {\n",
              "      background-color: #E2EBFA;\n",
              "      box-shadow: 0px 1px 2px rgba(60, 64, 67, 0.3), 0px 1px 3px 1px rgba(60, 64, 67, 0.15);\n",
              "      fill: #174EA6;\n",
              "    }\n",
              "\n",
              "    [theme=dark] .colab-df-convert {\n",
              "      background-color: #3B4455;\n",
              "      fill: #D2E3FC;\n",
              "    }\n",
              "\n",
              "    [theme=dark] .colab-df-convert:hover {\n",
              "      background-color: #434B5C;\n",
              "      box-shadow: 0px 1px 3px 1px rgba(0, 0, 0, 0.15);\n",
              "      filter: drop-shadow(0px 1px 2px rgba(0, 0, 0, 0.3));\n",
              "      fill: #FFFFFF;\n",
              "    }\n",
              "  </style>\n",
              "\n",
              "      <script>\n",
              "        const buttonEl =\n",
              "          document.querySelector('#df-13013f9f-ab78-49fa-a81d-6478b94d13ce button.colab-df-convert');\n",
              "        buttonEl.style.display =\n",
              "          google.colab.kernel.accessAllowed ? 'block' : 'none';\n",
              "\n",
              "        async function convertToInteractive(key) {\n",
              "          const element = document.querySelector('#df-13013f9f-ab78-49fa-a81d-6478b94d13ce');\n",
              "          const dataTable =\n",
              "            await google.colab.kernel.invokeFunction('convertToInteractive',\n",
              "                                                     [key], {});\n",
              "          if (!dataTable) return;\n",
              "\n",
              "          const docLinkHtml = 'Like what you see? Visit the ' +\n",
              "            '<a target=\"_blank\" href=https://colab.research.google.com/notebooks/data_table.ipynb>data table notebook</a>'\n",
              "            + ' to learn more about interactive tables.';\n",
              "          element.innerHTML = '';\n",
              "          dataTable['output_type'] = 'display_data';\n",
              "          await google.colab.output.renderOutput(dataTable, element);\n",
              "          const docLink = document.createElement('div');\n",
              "          docLink.innerHTML = docLinkHtml;\n",
              "          element.appendChild(docLink);\n",
              "        }\n",
              "      </script>\n",
              "    </div>\n",
              "  </div>\n",
              "  "
            ]
          },
          "metadata": {},
          "execution_count": 23
        }
      ],
      "source": [
        "## Encoding the NER labels.\n",
        "le = LabelEncoder()\n",
        "df_train_sel['ner_tags'] = le.fit_transform(df_train_sel['ner_tags'])\n",
        "# df_val_sel['ner_tags'] = le.transform(df_val_sel['ner_tags'])\n",
        "df_train_sel.head()"
      ]
    },
    {
      "cell_type": "code",
      "execution_count": 24,
      "metadata": {
        "id": "62wleXhoSwpE"
      },
      "outputs": [],
      "source": [
        "## Because padded variable has to be kept as 0 and not -1. Else label encode would trouble it!\n",
        "df_train_sel.ner_tags += 1"
      ]
    },
    {
      "cell_type": "code",
      "execution_count": 25,
      "metadata": {
        "colab": {
          "base_uri": "https://localhost:8080/",
          "height": 231
        },
        "id": "478tHYIFSwpE",
        "outputId": "698d066a-2123-415f-ef9a-16d272dfc769"
      },
      "outputs": [
        {
          "output_type": "execute_result",
          "data": {
            "text/plain": [
              "           tokens  ner_tags  capital\n",
              "index                               \n",
              "1          Whilst        63     True\n",
              "1               a        63    False\n",
              "1      reasonable        63    False\n",
              "1        harmonic        63    False\n",
              "1             fit        63    False"
            ],
            "text/html": [
              "\n",
              "  <div id=\"df-f10346d0-b7bb-4e9c-9bf6-8e84757d2e01\">\n",
              "    <div class=\"colab-df-container\">\n",
              "      <div>\n",
              "<style scoped>\n",
              "    .dataframe tbody tr th:only-of-type {\n",
              "        vertical-align: middle;\n",
              "    }\n",
              "\n",
              "    .dataframe tbody tr th {\n",
              "        vertical-align: top;\n",
              "    }\n",
              "\n",
              "    .dataframe thead th {\n",
              "        text-align: right;\n",
              "    }\n",
              "</style>\n",
              "<table border=\"1\" class=\"dataframe\">\n",
              "  <thead>\n",
              "    <tr style=\"text-align: right;\">\n",
              "      <th></th>\n",
              "      <th>tokens</th>\n",
              "      <th>ner_tags</th>\n",
              "      <th>capital</th>\n",
              "    </tr>\n",
              "    <tr>\n",
              "      <th>index</th>\n",
              "      <th></th>\n",
              "      <th></th>\n",
              "      <th></th>\n",
              "    </tr>\n",
              "  </thead>\n",
              "  <tbody>\n",
              "    <tr>\n",
              "      <th>1</th>\n",
              "      <td>Whilst</td>\n",
              "      <td>63</td>\n",
              "      <td>True</td>\n",
              "    </tr>\n",
              "    <tr>\n",
              "      <th>1</th>\n",
              "      <td>a</td>\n",
              "      <td>63</td>\n",
              "      <td>False</td>\n",
              "    </tr>\n",
              "    <tr>\n",
              "      <th>1</th>\n",
              "      <td>reasonable</td>\n",
              "      <td>63</td>\n",
              "      <td>False</td>\n",
              "    </tr>\n",
              "    <tr>\n",
              "      <th>1</th>\n",
              "      <td>harmonic</td>\n",
              "      <td>63</td>\n",
              "      <td>False</td>\n",
              "    </tr>\n",
              "    <tr>\n",
              "      <th>1</th>\n",
              "      <td>fit</td>\n",
              "      <td>63</td>\n",
              "      <td>False</td>\n",
              "    </tr>\n",
              "  </tbody>\n",
              "</table>\n",
              "</div>\n",
              "      <button class=\"colab-df-convert\" onclick=\"convertToInteractive('df-f10346d0-b7bb-4e9c-9bf6-8e84757d2e01')\"\n",
              "              title=\"Convert this dataframe to an interactive table.\"\n",
              "              style=\"display:none;\">\n",
              "        \n",
              "  <svg xmlns=\"http://www.w3.org/2000/svg\" height=\"24px\"viewBox=\"0 0 24 24\"\n",
              "       width=\"24px\">\n",
              "    <path d=\"M0 0h24v24H0V0z\" fill=\"none\"/>\n",
              "    <path d=\"M18.56 5.44l.94 2.06.94-2.06 2.06-.94-2.06-.94-.94-2.06-.94 2.06-2.06.94zm-11 1L8.5 8.5l.94-2.06 2.06-.94-2.06-.94L8.5 2.5l-.94 2.06-2.06.94zm10 10l.94 2.06.94-2.06 2.06-.94-2.06-.94-.94-2.06-.94 2.06-2.06.94z\"/><path d=\"M17.41 7.96l-1.37-1.37c-.4-.4-.92-.59-1.43-.59-.52 0-1.04.2-1.43.59L10.3 9.45l-7.72 7.72c-.78.78-.78 2.05 0 2.83L4 21.41c.39.39.9.59 1.41.59.51 0 1.02-.2 1.41-.59l7.78-7.78 2.81-2.81c.8-.78.8-2.07 0-2.86zM5.41 20L4 18.59l7.72-7.72 1.47 1.35L5.41 20z\"/>\n",
              "  </svg>\n",
              "      </button>\n",
              "      \n",
              "  <style>\n",
              "    .colab-df-container {\n",
              "      display:flex;\n",
              "      flex-wrap:wrap;\n",
              "      gap: 12px;\n",
              "    }\n",
              "\n",
              "    .colab-df-convert {\n",
              "      background-color: #E8F0FE;\n",
              "      border: none;\n",
              "      border-radius: 50%;\n",
              "      cursor: pointer;\n",
              "      display: none;\n",
              "      fill: #1967D2;\n",
              "      height: 32px;\n",
              "      padding: 0 0 0 0;\n",
              "      width: 32px;\n",
              "    }\n",
              "\n",
              "    .colab-df-convert:hover {\n",
              "      background-color: #E2EBFA;\n",
              "      box-shadow: 0px 1px 2px rgba(60, 64, 67, 0.3), 0px 1px 3px 1px rgba(60, 64, 67, 0.15);\n",
              "      fill: #174EA6;\n",
              "    }\n",
              "\n",
              "    [theme=dark] .colab-df-convert {\n",
              "      background-color: #3B4455;\n",
              "      fill: #D2E3FC;\n",
              "    }\n",
              "\n",
              "    [theme=dark] .colab-df-convert:hover {\n",
              "      background-color: #434B5C;\n",
              "      box-shadow: 0px 1px 3px 1px rgba(0, 0, 0, 0.15);\n",
              "      filter: drop-shadow(0px 1px 2px rgba(0, 0, 0, 0.3));\n",
              "      fill: #FFFFFF;\n",
              "    }\n",
              "  </style>\n",
              "\n",
              "      <script>\n",
              "        const buttonEl =\n",
              "          document.querySelector('#df-f10346d0-b7bb-4e9c-9bf6-8e84757d2e01 button.colab-df-convert');\n",
              "        buttonEl.style.display =\n",
              "          google.colab.kernel.accessAllowed ? 'block' : 'none';\n",
              "\n",
              "        async function convertToInteractive(key) {\n",
              "          const element = document.querySelector('#df-f10346d0-b7bb-4e9c-9bf6-8e84757d2e01');\n",
              "          const dataTable =\n",
              "            await google.colab.kernel.invokeFunction('convertToInteractive',\n",
              "                                                     [key], {});\n",
              "          if (!dataTable) return;\n",
              "\n",
              "          const docLinkHtml = 'Like what you see? Visit the ' +\n",
              "            '<a target=\"_blank\" href=https://colab.research.google.com/notebooks/data_table.ipynb>data table notebook</a>'\n",
              "            + ' to learn more about interactive tables.';\n",
              "          element.innerHTML = '';\n",
              "          dataTable['output_type'] = 'display_data';\n",
              "          await google.colab.output.renderOutput(dataTable, element);\n",
              "          const docLink = document.createElement('div');\n",
              "          docLink.innerHTML = docLinkHtml;\n",
              "          element.appendChild(docLink);\n",
              "        }\n",
              "      </script>\n",
              "    </div>\n",
              "  </div>\n",
              "  "
            ]
          },
          "metadata": {},
          "execution_count": 25
        }
      ],
      "source": [
        "df_train_sel.head()"
      ]
    },
    {
      "cell_type": "code",
      "execution_count": 26,
      "metadata": {
        "id": "uwqCKkMNAWeC"
      },
      "outputs": [],
      "source": [
        "# ## Remove characters\n",
        "# df_train.tokens = df_train.tokens.str.replace(\"[^a-zA-Z0-9 ]\",'')\n",
        "# df_val.tokens = df_val.tokens.str.replace(\"[^a-zA-Z0-9 ]\",'')"
      ]
    },
    {
      "cell_type": "code",
      "execution_count": 27,
      "metadata": {
        "id": "O31mtbyyAvc2"
      },
      "outputs": [],
      "source": [
        "# Tokenize the words\n",
        "tokenizer = tf.keras.preprocessing.text.Tokenizer(filters='?$#@./|:()\",;[]{}-',\n",
        "                                                  lower=False, \n",
        "                                                  split=' ',\n",
        "                                                  num_words=2000,\n",
        "                                                  oov_token='<UNK>')       # Initialize\n",
        "\n",
        "# tokenizer = tf.keras.preprocessing.text.Tokenizer(lower=True, split=' ') # Initialize\n",
        "tokenizer.fit_on_texts(df_train_sel.tokens.values) # Fit on training data"
      ]
    },
    {
      "cell_type": "code",
      "execution_count": 28,
      "metadata": {
        "id": "-dyarHCLA7G8"
      },
      "outputs": [],
      "source": [
        "# Transform to numeric\n",
        "tokens_train  = tokenizer.texts_to_sequences(df_train_sel.tokens.values)\n",
        "# tokens_val    = tokenizer.texts_to_sequences(df_val_sel.tokens.values)\n",
        "# tokens_test   = tokenizer.texts_to_sequences(df_test_sel.tokens.values)"
      ]
    },
    {
      "cell_type": "code",
      "execution_count": 29,
      "metadata": {
        "colab": {
          "base_uri": "https://localhost:8080/"
        },
        "id": "uGXu0V8-BGCd",
        "outputId": "e821db92-ebb5-4c6e-b86c-65d0d71f0da5"
      },
      "outputs": [
        {
          "output_type": "stream",
          "name": "stderr",
          "text": [
            "/usr/local/lib/python3.7/dist-packages/ipykernel_launcher.py:4: VisibleDeprecationWarning: Creating an ndarray from ragged nested sequences (which is a list-or-tuple of lists-or-tuples-or ndarrays with different lengths or shapes) is deprecated. If you meant to do this, you must specify 'dtype=object' when creating the ndarray.\n",
            "  after removing the cwd from sys.path.\n"
          ]
        }
      ],
      "source": [
        "# Remove empty elements from training data\n",
        "b = np.array([token!=[] for token in tokens_train])\n",
        "df_train_sel = df_train_sel.iloc[b,:]\n",
        "tokens_train = np.array(tokens_train)[b]\n",
        "\n",
        "# # Remove empty elements from validation data\n",
        "# b = np.array([token!=[] for token in tokens_val])\n",
        "# df_val_sel = df_val_sel.iloc[b,:]\n",
        "# tokens_val = np.array(tokens_val)[b]\n",
        "\n",
        "# # Remove empty elements from test data\n",
        "# b = np.array([token!=[] for token in tokens_test])\n",
        "# df_test_sel = df_test_sel.iloc[b,:]\n",
        "# tokens_test = np.array(tokens_test)[b]"
      ]
    },
    {
      "cell_type": "code",
      "execution_count": 30,
      "metadata": {
        "colab": {
          "base_uri": "https://localhost:8080/"
        },
        "id": "onSdxXWaJtHN",
        "outputId": "6850f54c-b5f6-4500-baa0-f2211d6b36ba"
      },
      "outputs": [
        {
          "output_type": "execute_result",
          "data": {
            "text/plain": [
              "array([list([1]), list([7]), list([1518]), ..., list([1617]), list([1]),\n",
              "       list([227])], dtype=object)"
            ]
          },
          "metadata": {},
          "execution_count": 30
        }
      ],
      "source": [
        "tokens_train"
      ]
    },
    {
      "cell_type": "code",
      "execution_count": 31,
      "metadata": {
        "id": "r3SamMTQJtHN"
      },
      "outputs": [],
      "source": [
        "word_to_token = tokenizer.word_index"
      ]
    },
    {
      "cell_type": "code",
      "source": [
        "word_to_token"
      ],
      "metadata": {
        "colab": {
          "base_uri": "https://localhost:8080/"
        },
        "id": "n8hIHeWlkLNd",
        "outputId": "d060f94e-4874-4713-dd21-3d137f5f0114"
      },
      "execution_count": 32,
      "outputs": [
        {
          "output_type": "execute_result",
          "data": {
            "text/plain": [
              "{'<UNK>': 1,\n",
              " 'the': 2,\n",
              " 'of': 3,\n",
              " 'and': 4,\n",
              " 'in': 5,\n",
              " 'to': 6,\n",
              " 'a': 7,\n",
              " 'is': 8,\n",
              " 'for': 9,\n",
              " 'by': 10,\n",
              " 'with': 11,\n",
              " 'The': 12,\n",
              " 'that': 13,\n",
              " 'from': 14,\n",
              " 'et': 15,\n",
              " 'al': 16,\n",
              " 'are': 17,\n",
              " 'at': 18,\n",
              " 'as': 19,\n",
              " 'we': 20,\n",
              " '2': 21,\n",
              " '1': 22,\n",
              " 'on': 23,\n",
              " 'We': 24,\n",
              " 'this': 25,\n",
              " 'be': 26,\n",
              " '0': 27,\n",
              " '3': 28,\n",
              " 'This': 29,\n",
              " 'which': 30,\n",
              " '=': 31,\n",
              " 'an': 32,\n",
              " 'data': 33,\n",
              " 'was': 34,\n",
              " 'our': 35,\n",
              " '5': 36,\n",
              " 'mass': 37,\n",
              " 'have': 38,\n",
              " 'In': 39,\n",
              " '4': 40,\n",
              " 'also': 41,\n",
              " 'not': 42,\n",
              " 'A': 43,\n",
              " 'M': 44,\n",
              " 'can': 45,\n",
              " 'support': 46,\n",
              " 'Figure': 47,\n",
              " 'has': 48,\n",
              " 'Fig': 49,\n",
              " 'model': 50,\n",
              " 'than': 51,\n",
              " 'e': 52,\n",
              " 'University': 53,\n",
              " '10': 54,\n",
              " 'between': 55,\n",
              " 'H': 56,\n",
              " 'stars': 57,\n",
              " 'work': 58,\n",
              " 'time': 59,\n",
              " 'grant': 60,\n",
              " 'National': 61,\n",
              " 'thank': 62,\n",
              " 'two': 63,\n",
              " 'Research': 64,\n",
              " 'observations': 65,\n",
              " 'their': 66,\n",
              " 'or': 67,\n",
              " 'supported': 68,\n",
              " 'these': 69,\n",
              " 'line': 70,\n",
              " 'using': 71,\n",
              " 'Science': 72,\n",
              " 'were': 73,\n",
              " 'it': 74,\n",
              " 'under': 75,\n",
              " 'density': 76,\n",
              " '6': 77,\n",
              " 'field': 78,\n",
              " 'galaxies': 79,\n",
              " 'use': 80,\n",
              " 'see': 81,\n",
              " 'used': 82,\n",
              " 'results': 83,\n",
              " 'where': 84,\n",
              " 'observed': 85,\n",
              " 'all': 86,\n",
              " 's': 87,\n",
              " 'different': 88,\n",
              " 'through': 89,\n",
              " 'more': 90,\n",
              " 'star': 91,\n",
              " 'acknowledges': 92,\n",
              " 'g': 93,\n",
              " 'values': 94,\n",
              " 'each': 95,\n",
              " 'i': 96,\n",
              " 'high': 97,\n",
              " 'gas': 98,\n",
              " 'been': 99,\n",
              " 'R': 100,\n",
              " 'stellar': 101,\n",
              " 'lines': 102,\n",
              " 'For': 103,\n",
              " 'velocity': 104,\n",
              " 'S': 105,\n",
              " 'only': 106,\n",
              " 'C': 107,\n",
              " 'but': 108,\n",
              " 'emission': 109,\n",
              " 'energy': 110,\n",
              " '2015': 111,\n",
              " 'B': 112,\n",
              " '−1': 113,\n",
              " 'would': 114,\n",
              " 'magnetic': 115,\n",
              " 'NASA': 116,\n",
              " 'one': 117,\n",
              " 'flux': 118,\n",
              " 'Foundation': 119,\n",
              " 'X': 120,\n",
              " 'shown': 121,\n",
              " 'models': 122,\n",
              " 'number': 123,\n",
              " '2014': 124,\n",
              " 'shows': 125,\n",
              " 'paper': 126,\n",
              " 'Table': 127,\n",
              " 'z': 128,\n",
              " 'panel': 129,\n",
              " 'value': 130,\n",
              " 'its': 131,\n",
              " 'parameters': 132,\n",
              " 'obtained': 133,\n",
              " 'distribution': 134,\n",
              " 'sample': 135,\n",
              " 'show': 136,\n",
              " '2016': 137,\n",
              " 'research': 138,\n",
              " 'low': 139,\n",
              " 'K': 140,\n",
              " 'made': 141,\n",
              " 'de': 142,\n",
              " 'other': 143,\n",
              " '8': 144,\n",
              " 'N': 145,\n",
              " 'same': 146,\n",
              " 'both': 147,\n",
              " 'within': 148,\n",
              " '7': 149,\n",
              " 'very': 150,\n",
              " '2017': 151,\n",
              " 'galaxy': 152,\n",
              " 'region': 153,\n",
              " 'based': 154,\n",
              " 'function': 155,\n",
              " 'large': 156,\n",
              " 'comments': 157,\n",
              " 'range': 158,\n",
              " '2013': 159,\n",
              " 'Institute': 160,\n",
              " 'will': 161,\n",
              " 'temperature': 162,\n",
              " 'ray': 163,\n",
              " 'found': 164,\n",
              " 'may': 165,\n",
              " 'analysis': 166,\n",
              " 'P': 167,\n",
              " 'lower': 168,\n",
              " 'simulations': 169,\n",
              " 'sources': 170,\n",
              " 'case': 171,\n",
              " 'Space': 172,\n",
              " 'similar': 173,\n",
              " 'due': 174,\n",
              " 'well': 175,\n",
              " 'referee': 176,\n",
              " 'spectra': 177,\n",
              " 'source': 178,\n",
              " 'fit': 179,\n",
              " 'acknowledge': 180,\n",
              " 'Section': 181,\n",
              " 'spectrum': 182,\n",
              " 'T': 183,\n",
              " 'such': 184,\n",
              " 'into': 185,\n",
              " 'light': 186,\n",
              " 'L': 187,\n",
              " 'order': 188,\n",
              " 'most': 189,\n",
              " 'when': 190,\n",
              " 'However': 191,\n",
              " 'Observatory': 192,\n",
              " 'red': 193,\n",
              " 'operated': 194,\n",
              " 'r': 195,\n",
              " 'm': 196,\n",
              " 'disk': 197,\n",
              " 'spectral': 198,\n",
              " 'no': 199,\n",
              " 'radius': 200,\n",
              " 'provided': 201,\n",
              " 'given': 202,\n",
              " 'project': 203,\n",
              " 'dust': 204,\n",
              " 'respectively': 205,\n",
              " 'while': 206,\n",
              " '2018': 207,\n",
              " 'scale': 208,\n",
              " 'formation': 209,\n",
              " 'over': 210,\n",
              " 'redshift': 211,\n",
              " 'O': 212,\n",
              " 'part': 213,\n",
              " 'higher': 214,\n",
              " 'small': 215,\n",
              " 'first': 216,\n",
              " '2012': 217,\n",
              " 'Council': 218,\n",
              " 'cluster': 219,\n",
              " 'α': 220,\n",
              " 'distance': 221,\n",
              " 'like': 222,\n",
              " 'evolution': 223,\n",
              " '9': 224,\n",
              " 'out': 225,\n",
              " 'find': 226,\n",
              " 'km': 227,\n",
              " 'No': 228,\n",
              " 'As': 229,\n",
              " 'blue': 230,\n",
              " 'D': 231,\n",
              " 'during': 232,\n",
              " 'set': 233,\n",
              " '12': 234,\n",
              " 'ratio': 235,\n",
              " 'power': 236,\n",
              " 'rate': 237,\n",
              " 'total': 238,\n",
              " 'regions': 239,\n",
              " 'some': 240,\n",
              " 'useful': 241,\n",
              " 'These': 242,\n",
              " 'V': 243,\n",
              " 'could': 244,\n",
              " 'I': 245,\n",
              " 'system': 246,\n",
              " 'then': 247,\n",
              " 'anonymous': 248,\n",
              " 'larger': 249,\n",
              " 'It': 250,\n",
              " 'European': 251,\n",
              " '2011': 252,\n",
              " 'disc': 253,\n",
              " 'σ': 254,\n",
              " 'three': 255,\n",
              " 'discussions': 256,\n",
              " 'E': 257,\n",
              " 'they': 258,\n",
              " 'there': 259,\n",
              " 'luminosity': 260,\n",
              " 'above': 261,\n",
              " 'surface': 262,\n",
              " 'profile': 263,\n",
              " 'measured': 264,\n",
              " 'mean': 265,\n",
              " 'solar': 266,\n",
              " 'derived': 267,\n",
              " 't': 268,\n",
              " '×': 269,\n",
              " 'effect': 270,\n",
              " 'possible': 271,\n",
              " 'left': 272,\n",
              " 'radial': 273,\n",
              " 'b': 274,\n",
              " 'right': 275,\n",
              " 'band': 276,\n",
              " 'radio': 277,\n",
              " 'J': 278,\n",
              " 'f': 279,\n",
              " 'Astronomy': 280,\n",
              " 'Technology': 281,\n",
              " 'because': 282,\n",
              " '2010': 283,\n",
              " 'd': 284,\n",
              " 'resolution': 285,\n",
              " 'non': 286,\n",
              " '–': 287,\n",
              " 'To': 288,\n",
              " 'average': 289,\n",
              " '2019': 290,\n",
              " '⊙': 291,\n",
              " 'phase': 292,\n",
              " 'halo': 293,\n",
              " 'black': 294,\n",
              " 'per': 295,\n",
              " 'G': 296,\n",
              " 'if': 297,\n",
              " '±': 298,\n",
              " 'those': 299,\n",
              " 'about': 300,\n",
              " 'parameter': 301,\n",
              " 'Grant': 302,\n",
              " 'agreement': 303,\n",
              " 'study': 304,\n",
              " 'properties': 305,\n",
              " 'consistent': 306,\n",
              " 'n': 307,\n",
              " 'authors': 308,\n",
              " 'initial': 309,\n",
              " 'factor': 310,\n",
              " 'present': 311,\n",
              " 'component': 312,\n",
              " 'correlation': 313,\n",
              " 'measurements': 314,\n",
              " 'funded': 315,\n",
              " 'up': 316,\n",
              " 'F': 317,\n",
              " 'simulation': 318,\n",
              " 'accretion': 319,\n",
              " 'significant': 320,\n",
              " 'result': 321,\n",
              " '∼': 322,\n",
              " 'Fe': 323,\n",
              " 'Center': 324,\n",
              " 'around': 325,\n",
              " 'size': 326,\n",
              " 'here': 327,\n",
              " 'expected': 328,\n",
              " 'best': 329,\n",
              " 'profiles': 330,\n",
              " 'curve': 331,\n",
              " 'any': 332,\n",
              " 'SDSS': 333,\n",
              " 'do': 334,\n",
              " 'so': 335,\n",
              " 'peak': 336,\n",
              " 'Astrophysics': 337,\n",
              " '2007': 338,\n",
              " 'images': 339,\n",
              " 'relation': 340,\n",
              " 'equation': 341,\n",
              " 'difference': 342,\n",
              " 'method': 343,\n",
              " 'fraction': 344,\n",
              " 'us': 345,\n",
              " 'Data': 346,\n",
              " 'c': 347,\n",
              " 'frequency': 348,\n",
              " 'limit': 349,\n",
              " 'contract': 350,\n",
              " 'objects': 351,\n",
              " 'jet': 352,\n",
              " 'magnitude': 353,\n",
              " 'clusters': 354,\n",
              " 'v': 355,\n",
              " 'along': 356,\n",
              " 'upper': 357,\n",
              " 'grants': 358,\n",
              " 'cm': 359,\n",
              " 'after': 360,\n",
              " 'presented': 361,\n",
              " 'period': 362,\n",
              " 'error': 363,\n",
              " 'absorption': 364,\n",
              " 'point': 365,\n",
              " 'much': 366,\n",
              " 'hand': 367,\n",
              " 'should': 368,\n",
              " 'curves': 369,\n",
              " 'helpful': 370,\n",
              " 'form': 371,\n",
              " 'constant': 372,\n",
              " '13': 373,\n",
              " 'NSF': 374,\n",
              " '15': 375,\n",
              " 'Telescope': 376,\n",
              " 'Å': 377,\n",
              " 'ii': 378,\n",
              " 'fitting': 379,\n",
              " 'corresponding': 380,\n",
              " 'compared': 381,\n",
              " 'described': 382,\n",
              " 'rotation': 383,\n",
              " 'detected': 384,\n",
              " 'Program': 385,\n",
              " 'seen': 386,\n",
              " 'image': 387,\n",
              " 'even': 388,\n",
              " 'below': 389,\n",
              " 'effects': 390,\n",
              " 'standard': 391,\n",
              " '2008': 392,\n",
              " 'metallicity': 393,\n",
              " '−': 394,\n",
              " 'optical': 395,\n",
              " 'grateful': 396,\n",
              " 'structure': 397,\n",
              " 'top': 398,\n",
              " 'angular': 399,\n",
              " 'following': 400,\n",
              " 'massive': 401,\n",
              " '2009': 402,\n",
              " '+': 403,\n",
              " 'smaller': 404,\n",
              " 'wind': 405,\n",
              " 'core': 406,\n",
              " 'providing': 407,\n",
              " 'available': 408,\n",
              " 'p': 409,\n",
              " 'estimated': 410,\n",
              " 'particles': 411,\n",
              " 'financial': 412,\n",
              " 'times': 413,\n",
              " 'less': 414,\n",
              " 'estimate': 415,\n",
              " 'funding': 416,\n",
              " 'Planck': 417,\n",
              " 'significantly': 418,\n",
              " 'CO': 419,\n",
              " 'performed': 420,\n",
              " 'masses': 421,\n",
              " 'panels': 422,\n",
              " 'taken': 423,\n",
              " 'local': 424,\n",
              " 'angle': 425,\n",
              " 'NGC': 426,\n",
              " 'Laboratory': 427,\n",
              " 'www': 428,\n",
              " 'does': 429,\n",
              " 'components': 430,\n",
              " 'uncertainties': 431,\n",
              " 'central': 432,\n",
              " 'manuscript': 433,\n",
              " 'shock': 434,\n",
              " 'associated': 435,\n",
              " 'space': 436,\n",
              " 'California': 437,\n",
              " 'process': 438,\n",
              " '11': 439,\n",
              " 'type': 440,\n",
              " 'dashed': 441,\n",
              " 'position': 442,\n",
              " 'main': 443,\n",
              " 'cases': 444,\n",
              " 'near': 445,\n",
              " 'thanks': 446,\n",
              " 'molecular': 447,\n",
              " 'population': 448,\n",
              " 'AST': 449,\n",
              " 'single': 450,\n",
              " 'noise': 451,\n",
              " 'etal': 452,\n",
              " 'likely': 453,\n",
              " 'ALMA': 454,\n",
              " 'binary': 455,\n",
              " 'Centre': 456,\n",
              " 'distributions': 457,\n",
              " 'relative': 458,\n",
              " 'β': 459,\n",
              " '−2': 460,\n",
              " 'calculated': 461,\n",
              " 'survey': 462,\n",
              " 'axis': 463,\n",
              " 'suggestions': 464,\n",
              " 'strong': 465,\n",
              " 'bottom': 466,\n",
              " 'uncertainty': 467,\n",
              " '2005': 468,\n",
              " 'comparison': 469,\n",
              " 'important': 470,\n",
              " 'therefore': 471,\n",
              " 'level': 472,\n",
              " 'including': 473,\n",
              " 'systems': 474,\n",
              " 'considered': 475,\n",
              " 'W': 476,\n",
              " 'Fellowship': 477,\n",
              " 'Gaia': 478,\n",
              " '14': 479,\n",
              " 'points': 480,\n",
              " 'Our': 481,\n",
              " 'errors': 482,\n",
              " 'current': 483,\n",
              " 'program': 484,\n",
              " 'particular': 485,\n",
              " 'full': 486,\n",
              " 'obtain': 487,\n",
              " 'thermal': 488,\n",
              " '>': 489,\n",
              " 'sky': 490,\n",
              " 'inner': 491,\n",
              " 'several': 492,\n",
              " 'radiation': 493,\n",
              " 'maximum': 494,\n",
              " 'new': 495,\n",
              " 'solid': 496,\n",
              " 'thus': 497,\n",
              " 'GHz': 498,\n",
              " 'individual': 499,\n",
              " 'reported': 500,\n",
              " 'If': 501,\n",
              " 'dispersion': 502,\n",
              " 'material': 503,\n",
              " 'pressure': 504,\n",
              " 'planet': 505,\n",
              " 'four': 506,\n",
              " 'further': 507,\n",
              " 'kpc': 508,\n",
              " 'orbital': 509,\n",
              " 'linear': 510,\n",
              " 'ACKNOWLEDGEMENTS': 511,\n",
              " 'http': 512,\n",
              " 'long': 513,\n",
              " '2006': 514,\n",
              " 'close': 515,\n",
              " 'index': 516,\n",
              " 'Galactic': 517,\n",
              " 'state': 518,\n",
              " 'conditions': 519,\n",
              " 'HST': 520,\n",
              " 'Equation': 521,\n",
              " 'potential': 522,\n",
              " 'Survey': 523,\n",
              " 'cross': 524,\n",
              " 'AGN': 525,\n",
              " 'direction': 526,\n",
              " 'test': 527,\n",
              " 'Gaussian': 528,\n",
              " 'scales': 529,\n",
              " '20': 530,\n",
              " 'example': 531,\n",
              " '25': 532,\n",
              " '2020': 533,\n",
              " 'intensity': 534,\n",
              " 'fields': 535,\n",
              " 'note': 536,\n",
              " 'account': 537,\n",
              " 'assuming': 538,\n",
              " 'plasma': 539,\n",
              " 'determined': 540,\n",
              " 'λ': 541,\n",
              " 'continuum': 542,\n",
              " 'Group': 543,\n",
              " 'studies': 544,\n",
              " 'still': 545,\n",
              " 'many': 546,\n",
              " 'amplitude': 547,\n",
              " 'photometric': 548,\n",
              " 'being': 549,\n",
              " 'additional': 550,\n",
              " 'age': 551,\n",
              " 'code': 552,\n",
              " 'his': 553,\n",
              " 'speed': 554,\n",
              " 'column': 555,\n",
              " 'increase': 556,\n",
              " 'θ': 557,\n",
              " 'second': 558,\n",
              " 'since': 559,\n",
              " '100': 560,\n",
              " 'cent': 561,\n",
              " 'previous': 562,\n",
              " 'samples': 563,\n",
              " 'law': 564,\n",
              " 'Administration': 565,\n",
              " 'At': 566,\n",
              " 'detection': 567,\n",
              " 'STFC': 568,\n",
              " 'Aeronautics': 569,\n",
              " 'area': 570,\n",
              " 'k': 571,\n",
              " 'assumed': 572,\n",
              " 'γ': 573,\n",
              " 'improved': 574,\n",
              " 'polarization': 575,\n",
              " 'computed': 576,\n",
              " 'outer': 577,\n",
              " 'x': 578,\n",
              " 'abundances': 579,\n",
              " 'Max': 580,\n",
              " 'few': 581,\n",
              " 'selected': 582,\n",
              " 'them': 583,\n",
              " 'Note': 584,\n",
              " 'pc': 585,\n",
              " 'improve': 586,\n",
              " 'plane': 587,\n",
              " 'μ': 588,\n",
              " 'Thus': 589,\n",
              " 'background': 590,\n",
              " 'matter': 591,\n",
              " 'features': 592,\n",
              " 'typical': 593,\n",
              " 'discussed': 594,\n",
              " 'China': 595,\n",
              " 'dwarf': 596,\n",
              " 'UV': 597,\n",
              " 'signal': 598,\n",
              " 'how': 599,\n",
              " 'ERC': 600,\n",
              " 'Energy': 601,\n",
              " 'ST': 602,\n",
              " 'ESO': 603,\n",
              " 'All': 604,\n",
              " 'rates': 605,\n",
              " '16': 606,\n",
              " 'developed': 607,\n",
              " 'II': 608,\n",
              " 'map': 609,\n",
              " 'dark': 610,\n",
              " 'keV': 611,\n",
              " 'Therefore': 612,\n",
              " 'ratios': 613,\n",
              " 'presence': 614,\n",
              " 'without': 615,\n",
              " 'abundance': 616,\n",
              " 'defined': 617,\n",
              " 'addition': 618,\n",
              " 'either': 619,\n",
              " 'Y': 620,\n",
              " 'mission': 621,\n",
              " 'plot': 622,\n",
              " 'SN': 623,\n",
              " 'State': 624,\n",
              " 'orbit': 625,\n",
              " 'equations': 626,\n",
              " 'term': 627,\n",
              " 'median': 628,\n",
              " 'y': 629,\n",
              " 'host': 630,\n",
              " 'momentum': 631,\n",
              " 'h': 632,\n",
              " 'contribution': 633,\n",
              " 'Universities': 634,\n",
              " 'scatter': 635,\n",
              " 'increases': 636,\n",
              " 'via': 637,\n",
              " 'relatively': 638,\n",
              " 'known': 639,\n",
              " 'solution': 640,\n",
              " 'indicate': 641,\n",
              " 'observation': 642,\n",
              " 'might': 643,\n",
              " 'free': 644,\n",
              " 'early': 645,\n",
              " 'France': 646,\n",
              " 'Sect': 647,\n",
              " 'vertical': 648,\n",
              " 'section': 649,\n",
              " 'terms': 650,\n",
              " '2003': 651,\n",
              " 'log': 652,\n",
              " 'strength': 653,\n",
              " 'spatial': 654,\n",
              " 'redshifts': 655,\n",
              " 'limits': 656,\n",
              " '30': 657,\n",
              " 'change': 658,\n",
              " 'differences': 659,\n",
              " 'assume': 660,\n",
              " 'simulated': 661,\n",
              " 'consider': 662,\n",
              " 'corresponds': 663,\n",
              " 'better': 664,\n",
              " 'green': 665,\n",
              " '−3': 666,\n",
              " 'ESA': 667,\n",
              " 'resulting': 668,\n",
              " 'flow': 669,\n",
              " 'numerical': 670,\n",
              " 'makes': 671,\n",
              " 'compare': 672,\n",
              " 'physical': 673,\n",
              " 'velocities': 674,\n",
              " 'Canada': 675,\n",
              " 'Spanish': 676,\n",
              " 'Here': 677,\n",
              " 'feedback': 678,\n",
              " '2000': 679,\n",
              " 'fact': 680,\n",
              " 'compact': 681,\n",
              " 'information': 682,\n",
              " 'discussion': 683,\n",
              " '≈': 684,\n",
              " '50': 685,\n",
              " 'before': 686,\n",
              " 'photometry': 687,\n",
              " 'Funding': 688,\n",
              " 'U': 689,\n",
              " 'Department': 690,\n",
              " 'include': 691,\n",
              " 'least': 692,\n",
              " 'structures': 693,\n",
              " 'motion': 694,\n",
              " 'width': 695,\n",
              " 'helped': 696,\n",
              " 'slope': 697,\n",
              " 'identified': 698,\n",
              " 'dynamical': 699,\n",
              " 'increasing': 700,\n",
              " 'follows': 701,\n",
              " 'carried': 702,\n",
              " 'forming': 703,\n",
              " 'circles': 704,\n",
              " 'maps': 705,\n",
              " 'produced': 706,\n",
              " 'methods': 707,\n",
              " 'l': 708,\n",
              " 'adopted': 709,\n",
              " 'Sciences': 710,\n",
              " 'III': 711,\n",
              " '17': 712,\n",
              " 'IR': 713,\n",
              " 'independent': 714,\n",
              " 'cannot': 715,\n",
              " 'particle': 716,\n",
              " 'erg': 717,\n",
              " '2004': 718,\n",
              " 'wavelength': 719,\n",
              " 'frame': 720,\n",
              " 'group': 721,\n",
              " 'detailed': 722,\n",
              " '01': 723,\n",
              " 'radii': 724,\n",
              " 'although': 725,\n",
              " 'depth': 726,\n",
              " 'dependence': 727,\n",
              " 'SFR': 728,\n",
              " 'shape': 729,\n",
              " 'dex': 730,\n",
              " 'effective': 731,\n",
              " 'step': 732,\n",
              " 'series': 733,\n",
              " 'slightly': 734,\n",
              " 'spin': 735,\n",
              " 'electron': 736,\n",
              " 'flare': 737,\n",
              " 'events': 738,\n",
              " 'end': 739,\n",
              " 'On': 740,\n",
              " 'hot': 741,\n",
              " 'clear': 742,\n",
              " 'BH': 743,\n",
              " 'yr': 744,\n",
              " 'fits': 745,\n",
              " 'Chandra': 746,\n",
              " 'Participation': 747,\n",
              " 'mode': 748,\n",
              " 'far': 749,\n",
              " 'scattering': 750,\n",
              " 'produce': 751,\n",
              " 'periods': 752,\n",
              " 'variation': 753,\n",
              " 'gratefully': 754,\n",
              " 'located': 755,\n",
              " 'required': 756,\n",
              " 'Physics': 757,\n",
              " 'variations': 758,\n",
              " 'wave': 759,\n",
              " 'While': 760,\n",
              " 'bands': 761,\n",
              " 'help': 762,\n",
              " 'scenario': 763,\n",
              " 'length': 764,\n",
              " 'planets': 765,\n",
              " 'calibration': 766,\n",
              " 'HD': 767,\n",
              " 'approach': 768,\n",
              " 'half': 769,\n",
              " 'frequencies': 770,\n",
              " 'plotted': 771,\n",
              " 'Inc': 772,\n",
              " 'temperatures': 773,\n",
              " 'indicates': 774,\n",
              " 'mag': 775,\n",
              " '18': 776,\n",
              " 'good': 777,\n",
              " 'populations': 778,\n",
              " 'location': 779,\n",
              " 'He': 780,\n",
              " 'Natural': 781,\n",
              " 'days': 782,\n",
              " 'had': 783,\n",
              " 'chemical': 784,\n",
              " 'rather': 785,\n",
              " 'Australian': 786,\n",
              " 'Ministry': 787,\n",
              " 'They': 788,\n",
              " 'programme': 789,\n",
              " '2002': 790,\n",
              " 'represent': 791,\n",
              " 'general': 792,\n",
              " 'related': 793,\n",
              " 'short': 794,\n",
              " 'DM': 795,\n",
              " 'true': 796,\n",
              " 'selection': 797,\n",
              " 'magnitudes': 798,\n",
              " 'becomes': 799,\n",
              " 'applied': 800,\n",
              " 'Collaboration': 801,\n",
              " 'NS': 802,\n",
              " 'final': 803,\n",
              " 'cosmic': 804,\n",
              " 'spectroscopic': 805,\n",
              " 'longer': 806,\n",
              " 'changes': 807,\n",
              " 'hole': 808,\n",
              " 'however': 809,\n",
              " 'Jet': 810,\n",
              " 'Since': 811,\n",
              " 'au': 812,\n",
              " 'provide': 813,\n",
              " 'Programme': 814,\n",
              " 'pixel': 815,\n",
              " 'org': 816,\n",
              " 'GRB': 817,\n",
              " '1999': 818,\n",
              " 'primary': 819,\n",
              " 'loss': 820,\n",
              " 'correction': 821,\n",
              " 'From': 822,\n",
              " 'respect': 823,\n",
              " 'Finally': 824,\n",
              " 'observational': 825,\n",
              " 'flat': 826,\n",
              " 'calculations': 827,\n",
              " 'bright': 828,\n",
              " 'transition': 829,\n",
              " 'cooling': 830,\n",
              " 'studied': 831,\n",
              " 'formed': 832,\n",
              " '2001': 833,\n",
              " 'included': 834,\n",
              " 'gravitational': 835,\n",
              " 'densities': 836,\n",
              " 'original': 837,\n",
              " 'trend': 838,\n",
              " 'random': 839,\n",
              " 'dominated': 840,\n",
              " 'clouds': 841,\n",
              " 'deviation': 842,\n",
              " 'across': 843,\n",
              " 'Propulsion': 844,\n",
              " 'extinction': 845,\n",
              " 'brightness': 846,\n",
              " 'almost': 847,\n",
              " 'Although': 848,\n",
              " 'center': 849,\n",
              " 'various': 850,\n",
              " 'fitted': 851,\n",
              " 'Office': 852,\n",
              " 'down': 853,\n",
              " 'minimum': 854,\n",
              " 'constraints': 855,\n",
              " 'now': 856,\n",
              " 'fixed': 857,\n",
              " 'binaries': 858,\n",
              " 'algorithm': 859,\n",
              " 'contributions': 860,\n",
              " 'cloud': 861,\n",
              " 'Association': 862,\n",
              " 'constructive': 863,\n",
              " 'rotational': 864,\n",
              " 'τ': 865,\n",
              " 'future': 866,\n",
              " 'Facilities': 867,\n",
              " 'variability': 868,\n",
              " 'way': 869,\n",
              " 'overall': 870,\n",
              " 'CH': 871,\n",
              " 'There': 872,\n",
              " 'systematic': 873,\n",
              " 'telescope': 874,\n",
              " 'φ': 875,\n",
              " 'fluxes': 876,\n",
              " 'Gyr': 877,\n",
              " 'reduced': 878,\n",
              " 'beam': 879,\n",
              " 'gives': 880,\n",
              " 'details': 881,\n",
              " 'valuable': 882,\n",
              " 'evidence': 883,\n",
              " 'explain': 884,\n",
              " 'partially': 885,\n",
              " 'clearly': 886,\n",
              " 'water': 887,\n",
              " 'just': 888,\n",
              " 'radiative': 889,\n",
              " 'bias': 890,\n",
              " 'towards': 891,\n",
              " 'suggests': 892,\n",
              " 'Agency': 893,\n",
              " 'boundary': 894,\n",
              " 'directly': 895,\n",
              " 'ice': 896,\n",
              " '19': 897,\n",
              " 'event': 898,\n",
              " 'last': 899,\n",
              " 'bins': 900,\n",
              " 'sizes': 901,\n",
              " 'sets': 902,\n",
              " 'measure': 903,\n",
              " 'zero': 904,\n",
              " 'turbulence': 905,\n",
              " 'highly': 906,\n",
              " 'suggest': 907,\n",
              " 'feature': 908,\n",
              " 'Institut': 909,\n",
              " 'extended': 910,\n",
              " 'estimates': 911,\n",
              " 'distances': 912,\n",
              " 'joint': 913,\n",
              " 'five': 914,\n",
              " 'sight': 915,\n",
              " 'Japan': 916,\n",
              " 'whether': 917,\n",
              " 'roughly': 918,\n",
              " 'SNe': 919,\n",
              " 'envelope': 920,\n",
              " 'instead': 921,\n",
              " 'dependent': 922,\n",
              " 'represents': 923,\n",
              " 'AGB': 924,\n",
              " 'imaging': 925,\n",
              " 'probability': 926,\n",
              " 'received': 927,\n",
              " 'statistical': 928,\n",
              " 'https': 929,\n",
              " 'Z': 930,\n",
              " 'Using': 931,\n",
              " 'recent': 932,\n",
              " 'whose': 933,\n",
              " 'outflow': 934,\n",
              " 'haloes': 935,\n",
              " '3D': 936,\n",
              " 'NuSTAR': 937,\n",
              " 'modes': 938,\n",
              " 'Analysis': 939,\n",
              " 'specific': 940,\n",
              " '*': 941,\n",
              " 'calculate': 942,\n",
              " 'RV': 943,\n",
              " 'bars': 944,\n",
              " 'combined': 945,\n",
              " 'centre': 946,\n",
              " 'open': 947,\n",
              " 'weak': 948,\n",
              " 'observing': 949,\n",
              " 'contrast': 950,\n",
              " 'coronal': 951,\n",
              " 'Consortium': 952,\n",
              " 'who': 953,\n",
              " 'discuss': 954,\n",
              " 'measurement': 955,\n",
              " 'ρ': 956,\n",
              " 'photons': 957,\n",
              " 'quality': 958,\n",
              " 'multiple': 959,\n",
              " 'driven': 960,\n",
              " 'though': 961,\n",
              " 'major': 962,\n",
              " 'able': 963,\n",
              " 'appears': 964,\n",
              " 'rich': 965,\n",
              " 'gradients': 966,\n",
              " 'impact': 967,\n",
              " 'Institutions': 968,\n",
              " 'versus': 969,\n",
              " 'what': 970,\n",
              " 'provides': 971,\n",
              " 'Appendix': 972,\n",
              " 'Ly': 973,\n",
              " 'Myr': 974,\n",
              " 'bar': 975,\n",
              " 'quasars': 976,\n",
              " 'version': 977,\n",
              " 'leading': 978,\n",
              " 'approximation': 979,\n",
              " 'acceleration': 980,\n",
              " 'color': 981,\n",
              " 'UK': 982,\n",
              " 'volume': 983,\n",
              " 'indicated': 984,\n",
              " 'object': 985,\n",
              " 'secondary': 986,\n",
              " 'activity': 987,\n",
              " 'excess': 988,\n",
              " 'Earth': 989,\n",
              " '000': 990,\n",
              " 'loop': 991,\n",
              " 'colour': 992,\n",
              " 'thin': 993,\n",
              " 'reference': 994,\n",
              " 'Astronomical': 995,\n",
              " 'thick': 996,\n",
              " 'solutions': 997,\n",
              " 'strongly': 998,\n",
              " '21': 999,\n",
              " 'System': 1000,\n",
              " ...}"
            ]
          },
          "metadata": {},
          "execution_count": 32
        }
      ]
    },
    {
      "cell_type": "code",
      "source": [
        ""
      ],
      "metadata": {
        "id": "1UWNebClkLJ9"
      },
      "execution_count": 32,
      "outputs": []
    },
    {
      "cell_type": "code",
      "execution_count": 33,
      "metadata": {
        "colab": {
          "base_uri": "https://localhost:8080/"
        },
        "id": "bYVeU0yhBIy7",
        "outputId": "93f54566-e1eb-4a99-ce1b-c04668d0ef14"
      },
      "outputs": [
        {
          "output_type": "stream",
          "name": "stdout",
          "text": [
            "       tokens  ner_tags  capital\n",
            "index                           \n",
            "1         [1]        63     True\n",
            "1         [7]        63    False\n",
            "1      [1518]        63    False\n",
            "1         [1]        63    False\n",
            "1       [179]        63    False\n"
          ]
        }
      ],
      "source": [
        "df_train_sel.tokens = tokens_train\n",
        "# df_val_sel.tokens = tokens_val\n",
        "# df_test_sel.tokens = tokens_test\n",
        "print(df_train_sel.head())"
      ]
    },
    {
      "cell_type": "code",
      "execution_count": 34,
      "metadata": {
        "id": "OaDYdWVkJtHO"
      },
      "outputs": [],
      "source": [
        "# df_train_sel.tokens = df_train_sel.tokens[0]\n",
        "# df_val_sel.tokens = df_val_sel.tokens[0]\n",
        "# df_test_sel.tokens = df_test_sel.tokens[0]"
      ]
    },
    {
      "cell_type": "code",
      "execution_count": 34,
      "metadata": {
        "id": "Ao0HEsiaJtHO"
      },
      "outputs": [],
      "source": [
        ""
      ]
    },
    {
      "cell_type": "code",
      "execution_count": 35,
      "metadata": {
        "id": "sIQC_SRoJtHO"
      },
      "outputs": [],
      "source": [
        "# df_train_sel.tokens = df_train_sel.tokens.apply(lambda x: x[0])\n",
        "# df_val_sel.tokens = df_val_sel.tokens.apply(lambda x: x[0])\n",
        "# df_test_sel.tokens = df_test_sel.tokens.apply(lambda x: x[0])"
      ]
    },
    {
      "cell_type": "code",
      "execution_count": 36,
      "metadata": {
        "colab": {
          "base_uri": "https://localhost:8080/",
          "height": 231
        },
        "id": "HOABVczuBZC1",
        "outputId": "8374b89e-cf48-46e7-9c3b-3bfe8146e0e5"
      },
      "outputs": [
        {
          "output_type": "execute_result",
          "data": {
            "text/plain": [
              "       tokens  ner_tags  capital\n",
              "index                           \n",
              "1           1        63     True\n",
              "1           7        63    False\n",
              "1        1518        63    False\n",
              "1           1        63    False\n",
              "1         179        63    False"
            ],
            "text/html": [
              "\n",
              "  <div id=\"df-59fa5d3a-8575-40db-b9b0-b0cd454b3323\">\n",
              "    <div class=\"colab-df-container\">\n",
              "      <div>\n",
              "<style scoped>\n",
              "    .dataframe tbody tr th:only-of-type {\n",
              "        vertical-align: middle;\n",
              "    }\n",
              "\n",
              "    .dataframe tbody tr th {\n",
              "        vertical-align: top;\n",
              "    }\n",
              "\n",
              "    .dataframe thead th {\n",
              "        text-align: right;\n",
              "    }\n",
              "</style>\n",
              "<table border=\"1\" class=\"dataframe\">\n",
              "  <thead>\n",
              "    <tr style=\"text-align: right;\">\n",
              "      <th></th>\n",
              "      <th>tokens</th>\n",
              "      <th>ner_tags</th>\n",
              "      <th>capital</th>\n",
              "    </tr>\n",
              "    <tr>\n",
              "      <th>index</th>\n",
              "      <th></th>\n",
              "      <th></th>\n",
              "      <th></th>\n",
              "    </tr>\n",
              "  </thead>\n",
              "  <tbody>\n",
              "    <tr>\n",
              "      <th>1</th>\n",
              "      <td>1</td>\n",
              "      <td>63</td>\n",
              "      <td>True</td>\n",
              "    </tr>\n",
              "    <tr>\n",
              "      <th>1</th>\n",
              "      <td>7</td>\n",
              "      <td>63</td>\n",
              "      <td>False</td>\n",
              "    </tr>\n",
              "    <tr>\n",
              "      <th>1</th>\n",
              "      <td>1518</td>\n",
              "      <td>63</td>\n",
              "      <td>False</td>\n",
              "    </tr>\n",
              "    <tr>\n",
              "      <th>1</th>\n",
              "      <td>1</td>\n",
              "      <td>63</td>\n",
              "      <td>False</td>\n",
              "    </tr>\n",
              "    <tr>\n",
              "      <th>1</th>\n",
              "      <td>179</td>\n",
              "      <td>63</td>\n",
              "      <td>False</td>\n",
              "    </tr>\n",
              "  </tbody>\n",
              "</table>\n",
              "</div>\n",
              "      <button class=\"colab-df-convert\" onclick=\"convertToInteractive('df-59fa5d3a-8575-40db-b9b0-b0cd454b3323')\"\n",
              "              title=\"Convert this dataframe to an interactive table.\"\n",
              "              style=\"display:none;\">\n",
              "        \n",
              "  <svg xmlns=\"http://www.w3.org/2000/svg\" height=\"24px\"viewBox=\"0 0 24 24\"\n",
              "       width=\"24px\">\n",
              "    <path d=\"M0 0h24v24H0V0z\" fill=\"none\"/>\n",
              "    <path d=\"M18.56 5.44l.94 2.06.94-2.06 2.06-.94-2.06-.94-.94-2.06-.94 2.06-2.06.94zm-11 1L8.5 8.5l.94-2.06 2.06-.94-2.06-.94L8.5 2.5l-.94 2.06-2.06.94zm10 10l.94 2.06.94-2.06 2.06-.94-2.06-.94-.94-2.06-.94 2.06-2.06.94z\"/><path d=\"M17.41 7.96l-1.37-1.37c-.4-.4-.92-.59-1.43-.59-.52 0-1.04.2-1.43.59L10.3 9.45l-7.72 7.72c-.78.78-.78 2.05 0 2.83L4 21.41c.39.39.9.59 1.41.59.51 0 1.02-.2 1.41-.59l7.78-7.78 2.81-2.81c.8-.78.8-2.07 0-2.86zM5.41 20L4 18.59l7.72-7.72 1.47 1.35L5.41 20z\"/>\n",
              "  </svg>\n",
              "      </button>\n",
              "      \n",
              "  <style>\n",
              "    .colab-df-container {\n",
              "      display:flex;\n",
              "      flex-wrap:wrap;\n",
              "      gap: 12px;\n",
              "    }\n",
              "\n",
              "    .colab-df-convert {\n",
              "      background-color: #E8F0FE;\n",
              "      border: none;\n",
              "      border-radius: 50%;\n",
              "      cursor: pointer;\n",
              "      display: none;\n",
              "      fill: #1967D2;\n",
              "      height: 32px;\n",
              "      padding: 0 0 0 0;\n",
              "      width: 32px;\n",
              "    }\n",
              "\n",
              "    .colab-df-convert:hover {\n",
              "      background-color: #E2EBFA;\n",
              "      box-shadow: 0px 1px 2px rgba(60, 64, 67, 0.3), 0px 1px 3px 1px rgba(60, 64, 67, 0.15);\n",
              "      fill: #174EA6;\n",
              "    }\n",
              "\n",
              "    [theme=dark] .colab-df-convert {\n",
              "      background-color: #3B4455;\n",
              "      fill: #D2E3FC;\n",
              "    }\n",
              "\n",
              "    [theme=dark] .colab-df-convert:hover {\n",
              "      background-color: #434B5C;\n",
              "      box-shadow: 0px 1px 3px 1px rgba(0, 0, 0, 0.15);\n",
              "      filter: drop-shadow(0px 1px 2px rgba(0, 0, 0, 0.3));\n",
              "      fill: #FFFFFF;\n",
              "    }\n",
              "  </style>\n",
              "\n",
              "      <script>\n",
              "        const buttonEl =\n",
              "          document.querySelector('#df-59fa5d3a-8575-40db-b9b0-b0cd454b3323 button.colab-df-convert');\n",
              "        buttonEl.style.display =\n",
              "          google.colab.kernel.accessAllowed ? 'block' : 'none';\n",
              "\n",
              "        async function convertToInteractive(key) {\n",
              "          const element = document.querySelector('#df-59fa5d3a-8575-40db-b9b0-b0cd454b3323');\n",
              "          const dataTable =\n",
              "            await google.colab.kernel.invokeFunction('convertToInteractive',\n",
              "                                                     [key], {});\n",
              "          if (!dataTable) return;\n",
              "\n",
              "          const docLinkHtml = 'Like what you see? Visit the ' +\n",
              "            '<a target=\"_blank\" href=https://colab.research.google.com/notebooks/data_table.ipynb>data table notebook</a>'\n",
              "            + ' to learn more about interactive tables.';\n",
              "          element.innerHTML = '';\n",
              "          dataTable['output_type'] = 'display_data';\n",
              "          await google.colab.output.renderOutput(dataTable, element);\n",
              "          const docLink = document.createElement('div');\n",
              "          docLink.innerHTML = docLinkHtml;\n",
              "          element.appendChild(docLink);\n",
              "        }\n",
              "      </script>\n",
              "    </div>\n",
              "  </div>\n",
              "  "
            ]
          },
          "metadata": {},
          "execution_count": 36
        }
      ],
      "source": [
        "df_train_sel.tokens = df_train_sel.tokens.apply(lambda x: x[0])\n",
        "# df_val_sel.tokens = df_val_sel.tokens.apply(lambda x: x[0])\n",
        "# df_test_sel.tokens = df_test_sel.tokens.apply(lambda x: x[0])\n",
        "df_train_sel.head()"
      ]
    },
    {
      "cell_type": "code",
      "execution_count": 37,
      "metadata": {
        "id": "79Z-Y9ICBc9G"
      },
      "outputs": [],
      "source": [
        "df_train_sel = df_train_sel.astype(str)\n",
        "# df_val_sel = df_val_sel.astype(str)\n",
        "# df_test_sel = df_test_sel.astype(str)"
      ]
    },
    {
      "cell_type": "code",
      "execution_count": 38,
      "metadata": {
        "id": "OvQCvN5YCVeS"
      },
      "outputs": [],
      "source": [
        "df_train_concat = df_train_sel.groupby(df_train_sel.index).agg(lambda x: ' '.join(x))\n",
        "# df_val_concat = df_val_sel.groupby(df_val_sel.index).agg(lambda x: ' '.join(x))\n",
        "# df_test_concat = df_test_sel.groupby(df_test_sel.index).agg(lambda x: ' '.join(x))"
      ]
    },
    {
      "cell_type": "code",
      "execution_count": 39,
      "metadata": {
        "colab": {
          "base_uri": "https://localhost:8080/",
          "height": 442
        },
        "id": "Yh5PyRfLMGnj",
        "outputId": "872dd095-acc1-4fc8-c248-77718231e523"
      },
      "outputs": [
        {
          "output_type": "execute_result",
          "data": {
            "text/plain": [
              "                                                  tokens  \\\n",
              "index                                                      \n",
              "1      1 7 1518 1 179 6 2 1 33 45 26 1 71 25 362 74 4...   \n",
              "2      469 1629 2 399 1042 3 2 1 17 1 325 25 365 822 ...   \n",
              "3      511 12 308 62 32 248 1927 9 157 4 464 13 1 35 ...   \n",
              "4      1 754 92 46 14 116 1774 60 1 374 60 449 4 2 14...   \n",
              "5      511 24 62 1 1 1 1 1 1 1 1 1 1 1 1 4 1 1 9 1 25...   \n",
              "...                                                  ...   \n",
              "1719   479 8 1 501 212 1 1 1 18 1 55 1 841 4 7 741 98...   \n",
              "1720   1964 1 269 54 234 296 115 78 653 3 1 120 4 9 3...   \n",
              "1721   511 24 17 396 6 2 248 1 9 553 1523 1358 3 2 43...   \n",
              "1722   1170 3 1 250 964 13 2 1 3 488 1 48 99 370 6 1 ...   \n",
              "1723   18 97 1333 1 360 1 225 2 443 528 430 14 2 85 3...   \n",
              "\n",
              "                                                ner_tags  \\\n",
              "index                                                      \n",
              "1      63 63 63 63 63 63 63 16 63 63 63 63 63 63 63 6...   \n",
              "2      63 63 63 63 63 63 63 63 63 63 63 63 63 63 63 6...   \n",
              "3      63 63 63 63 63 63 63 63 63 63 63 63 63 63 63 2...   \n",
              "4      23 63 63 63 63 22 14 45 45 22 63 14 63 63 22 5...   \n",
              "5      63 63 63 23 54 23 54 23 54 23 54 23 54 23 54 6...   \n",
              "...                                                  ...   \n",
              "1719   63 63 63 63 63 63 63 63 63 63 63 63 63 63 63 6...   \n",
              "1720   63 63 63 63 63 63 63 63 63 63 2 33 63 63 63 5 ...   \n",
              "1721   63 63 63 63 63 63 63 63 63 63 63 63 63 63 63 6...   \n",
              "1722   63 63 63 63 63 63 63 63 63 63 63 63 63 63 63 6...   \n",
              "1723   63 63 63 63 63 63 63 63 63 19 50 63 63 63 63 6...   \n",
              "\n",
              "                                                 capital  \n",
              "index                                                     \n",
              "1      True False False False False False False True ...  \n",
              "2      False False False False False False False Fals...  \n",
              "3      True True False False False False False False ...  \n",
              "4      True False False False False True True False T...  \n",
              "5      True True False True True True True True True ...  \n",
              "...                                                  ...  \n",
              "1719   False False False True True False False False ...  \n",
              "1720   False False False False False True False False...  \n",
              "1721   True True False False False False False True F...  \n",
              "1722   False False False True False False False False...  \n",
              "1723   False False False True False False False False...  \n",
              "\n",
              "[1697 rows x 3 columns]"
            ],
            "text/html": [
              "\n",
              "  <div id=\"df-30b412ee-d809-457c-9381-48e3e0cc2b49\">\n",
              "    <div class=\"colab-df-container\">\n",
              "      <div>\n",
              "<style scoped>\n",
              "    .dataframe tbody tr th:only-of-type {\n",
              "        vertical-align: middle;\n",
              "    }\n",
              "\n",
              "    .dataframe tbody tr th {\n",
              "        vertical-align: top;\n",
              "    }\n",
              "\n",
              "    .dataframe thead th {\n",
              "        text-align: right;\n",
              "    }\n",
              "</style>\n",
              "<table border=\"1\" class=\"dataframe\">\n",
              "  <thead>\n",
              "    <tr style=\"text-align: right;\">\n",
              "      <th></th>\n",
              "      <th>tokens</th>\n",
              "      <th>ner_tags</th>\n",
              "      <th>capital</th>\n",
              "    </tr>\n",
              "    <tr>\n",
              "      <th>index</th>\n",
              "      <th></th>\n",
              "      <th></th>\n",
              "      <th></th>\n",
              "    </tr>\n",
              "  </thead>\n",
              "  <tbody>\n",
              "    <tr>\n",
              "      <th>1</th>\n",
              "      <td>1 7 1518 1 179 6 2 1 33 45 26 1 71 25 362 74 4...</td>\n",
              "      <td>63 63 63 63 63 63 63 16 63 63 63 63 63 63 63 6...</td>\n",
              "      <td>True False False False False False False True ...</td>\n",
              "    </tr>\n",
              "    <tr>\n",
              "      <th>2</th>\n",
              "      <td>469 1629 2 399 1042 3 2 1 17 1 325 25 365 822 ...</td>\n",
              "      <td>63 63 63 63 63 63 63 63 63 63 63 63 63 63 63 6...</td>\n",
              "      <td>False False False False False False False Fals...</td>\n",
              "    </tr>\n",
              "    <tr>\n",
              "      <th>3</th>\n",
              "      <td>511 12 308 62 32 248 1927 9 157 4 464 13 1 35 ...</td>\n",
              "      <td>63 63 63 63 63 63 63 63 63 63 63 63 63 63 63 2...</td>\n",
              "      <td>True True False False False False False False ...</td>\n",
              "    </tr>\n",
              "    <tr>\n",
              "      <th>4</th>\n",
              "      <td>1 754 92 46 14 116 1774 60 1 374 60 449 4 2 14...</td>\n",
              "      <td>23 63 63 63 63 22 14 45 45 22 63 14 63 63 22 5...</td>\n",
              "      <td>True False False False False True True False T...</td>\n",
              "    </tr>\n",
              "    <tr>\n",
              "      <th>5</th>\n",
              "      <td>511 24 62 1 1 1 1 1 1 1 1 1 1 1 1 4 1 1 9 1 25...</td>\n",
              "      <td>63 63 63 23 54 23 54 23 54 23 54 23 54 23 54 6...</td>\n",
              "      <td>True True False True True True True True True ...</td>\n",
              "    </tr>\n",
              "    <tr>\n",
              "      <th>...</th>\n",
              "      <td>...</td>\n",
              "      <td>...</td>\n",
              "      <td>...</td>\n",
              "    </tr>\n",
              "    <tr>\n",
              "      <th>1719</th>\n",
              "      <td>479 8 1 501 212 1 1 1 18 1 55 1 841 4 7 741 98...</td>\n",
              "      <td>63 63 63 63 63 63 63 63 63 63 63 63 63 63 63 6...</td>\n",
              "      <td>False False False True True False False False ...</td>\n",
              "    </tr>\n",
              "    <tr>\n",
              "      <th>1720</th>\n",
              "      <td>1964 1 269 54 234 296 115 78 653 3 1 120 4 9 3...</td>\n",
              "      <td>63 63 63 63 63 63 63 63 63 63 2 33 63 63 63 5 ...</td>\n",
              "      <td>False False False False False True False False...</td>\n",
              "    </tr>\n",
              "    <tr>\n",
              "      <th>1721</th>\n",
              "      <td>511 24 17 396 6 2 248 1 9 553 1523 1358 3 2 43...</td>\n",
              "      <td>63 63 63 63 63 63 63 63 63 63 63 63 63 63 63 6...</td>\n",
              "      <td>True True False False False False False True F...</td>\n",
              "    </tr>\n",
              "    <tr>\n",
              "      <th>1722</th>\n",
              "      <td>1170 3 1 250 964 13 2 1 3 488 1 48 99 370 6 1 ...</td>\n",
              "      <td>63 63 63 63 63 63 63 63 63 63 63 63 63 63 63 6...</td>\n",
              "      <td>False False False True False False False False...</td>\n",
              "    </tr>\n",
              "    <tr>\n",
              "      <th>1723</th>\n",
              "      <td>18 97 1333 1 360 1 225 2 443 528 430 14 2 85 3...</td>\n",
              "      <td>63 63 63 63 63 63 63 63 63 19 50 63 63 63 63 6...</td>\n",
              "      <td>False False False True False False False False...</td>\n",
              "    </tr>\n",
              "  </tbody>\n",
              "</table>\n",
              "<p>1697 rows × 3 columns</p>\n",
              "</div>\n",
              "      <button class=\"colab-df-convert\" onclick=\"convertToInteractive('df-30b412ee-d809-457c-9381-48e3e0cc2b49')\"\n",
              "              title=\"Convert this dataframe to an interactive table.\"\n",
              "              style=\"display:none;\">\n",
              "        \n",
              "  <svg xmlns=\"http://www.w3.org/2000/svg\" height=\"24px\"viewBox=\"0 0 24 24\"\n",
              "       width=\"24px\">\n",
              "    <path d=\"M0 0h24v24H0V0z\" fill=\"none\"/>\n",
              "    <path d=\"M18.56 5.44l.94 2.06.94-2.06 2.06-.94-2.06-.94-.94-2.06-.94 2.06-2.06.94zm-11 1L8.5 8.5l.94-2.06 2.06-.94-2.06-.94L8.5 2.5l-.94 2.06-2.06.94zm10 10l.94 2.06.94-2.06 2.06-.94-2.06-.94-.94-2.06-.94 2.06-2.06.94z\"/><path d=\"M17.41 7.96l-1.37-1.37c-.4-.4-.92-.59-1.43-.59-.52 0-1.04.2-1.43.59L10.3 9.45l-7.72 7.72c-.78.78-.78 2.05 0 2.83L4 21.41c.39.39.9.59 1.41.59.51 0 1.02-.2 1.41-.59l7.78-7.78 2.81-2.81c.8-.78.8-2.07 0-2.86zM5.41 20L4 18.59l7.72-7.72 1.47 1.35L5.41 20z\"/>\n",
              "  </svg>\n",
              "      </button>\n",
              "      \n",
              "  <style>\n",
              "    .colab-df-container {\n",
              "      display:flex;\n",
              "      flex-wrap:wrap;\n",
              "      gap: 12px;\n",
              "    }\n",
              "\n",
              "    .colab-df-convert {\n",
              "      background-color: #E8F0FE;\n",
              "      border: none;\n",
              "      border-radius: 50%;\n",
              "      cursor: pointer;\n",
              "      display: none;\n",
              "      fill: #1967D2;\n",
              "      height: 32px;\n",
              "      padding: 0 0 0 0;\n",
              "      width: 32px;\n",
              "    }\n",
              "\n",
              "    .colab-df-convert:hover {\n",
              "      background-color: #E2EBFA;\n",
              "      box-shadow: 0px 1px 2px rgba(60, 64, 67, 0.3), 0px 1px 3px 1px rgba(60, 64, 67, 0.15);\n",
              "      fill: #174EA6;\n",
              "    }\n",
              "\n",
              "    [theme=dark] .colab-df-convert {\n",
              "      background-color: #3B4455;\n",
              "      fill: #D2E3FC;\n",
              "    }\n",
              "\n",
              "    [theme=dark] .colab-df-convert:hover {\n",
              "      background-color: #434B5C;\n",
              "      box-shadow: 0px 1px 3px 1px rgba(0, 0, 0, 0.15);\n",
              "      filter: drop-shadow(0px 1px 2px rgba(0, 0, 0, 0.3));\n",
              "      fill: #FFFFFF;\n",
              "    }\n",
              "  </style>\n",
              "\n",
              "      <script>\n",
              "        const buttonEl =\n",
              "          document.querySelector('#df-30b412ee-d809-457c-9381-48e3e0cc2b49 button.colab-df-convert');\n",
              "        buttonEl.style.display =\n",
              "          google.colab.kernel.accessAllowed ? 'block' : 'none';\n",
              "\n",
              "        async function convertToInteractive(key) {\n",
              "          const element = document.querySelector('#df-30b412ee-d809-457c-9381-48e3e0cc2b49');\n",
              "          const dataTable =\n",
              "            await google.colab.kernel.invokeFunction('convertToInteractive',\n",
              "                                                     [key], {});\n",
              "          if (!dataTable) return;\n",
              "\n",
              "          const docLinkHtml = 'Like what you see? Visit the ' +\n",
              "            '<a target=\"_blank\" href=https://colab.research.google.com/notebooks/data_table.ipynb>data table notebook</a>'\n",
              "            + ' to learn more about interactive tables.';\n",
              "          element.innerHTML = '';\n",
              "          dataTable['output_type'] = 'display_data';\n",
              "          await google.colab.output.renderOutput(dataTable, element);\n",
              "          const docLink = document.createElement('div');\n",
              "          docLink.innerHTML = docLinkHtml;\n",
              "          element.appendChild(docLink);\n",
              "        }\n",
              "      </script>\n",
              "    </div>\n",
              "  </div>\n",
              "  "
            ]
          },
          "metadata": {},
          "execution_count": 39
        }
      ],
      "source": [
        "df_train_concat"
      ]
    },
    {
      "cell_type": "code",
      "execution_count": 40,
      "metadata": {
        "id": "9eIM4InMCZmQ"
      },
      "outputs": [],
      "source": [
        "df_train_concat.tokens = df_train_concat.tokens.apply(lambda x: x.split(' '))\n",
        "df_train_concat.ner_tags = df_train_concat.ner_tags.apply(lambda x: x.split(' '))\n",
        "# df_val_concat.tokens = df_val_concat.tokens.apply(lambda x: x.split(' '))\n",
        "# df_val_concat.ner_tags = df_val_concat.ner_tags.apply(lambda x: x.split(' '))\n",
        "# df_test_concat.tokens = df_test_concat.tokens.apply(lambda x: x.split(' '))"
      ]
    },
    {
      "cell_type": "code",
      "execution_count": 41,
      "metadata": {
        "colab": {
          "base_uri": "https://localhost:8080/"
        },
        "id": "RIlKM93BCi3c",
        "outputId": "57799523-8eff-43e3-f098-8fda95cc6a00"
      },
      "outputs": [
        {
          "output_type": "stream",
          "name": "stdout",
          "text": [
            "Training Set Shape after Concatenating Sentences:  (1697, 3)\n",
            "                                                  tokens  \\\n",
            "index                                                      \n",
            "1      [1, 7, 1518, 1, 179, 6, 2, 1, 33, 45, 26, 1, 7...   \n",
            "2      [469, 1629, 2, 399, 1042, 3, 2, 1, 17, 1, 325,...   \n",
            "3      [511, 12, 308, 62, 32, 248, 1927, 9, 157, 4, 4...   \n",
            "4      [1, 754, 92, 46, 14, 116, 1774, 60, 1, 374, 60...   \n",
            "5      [511, 24, 62, 1, 1, 1, 1, 1, 1, 1, 1, 1, 1, 1,...   \n",
            "\n",
            "                                                ner_tags  \\\n",
            "index                                                      \n",
            "1      [63, 63, 63, 63, 63, 63, 63, 16, 63, 63, 63, 6...   \n",
            "2      [63, 63, 63, 63, 63, 63, 63, 63, 63, 63, 63, 6...   \n",
            "3      [63, 63, 63, 63, 63, 63, 63, 63, 63, 63, 63, 6...   \n",
            "4      [23, 63, 63, 63, 63, 22, 14, 45, 45, 22, 63, 1...   \n",
            "5      [63, 63, 63, 23, 54, 23, 54, 23, 54, 23, 54, 2...   \n",
            "\n",
            "                                                 capital  \n",
            "index                                                     \n",
            "1      True False False False False False False True ...  \n",
            "2      False False False False False False False Fals...  \n",
            "3      True True False False False False False False ...  \n",
            "4      True False False False False True True False T...  \n",
            "5      True True False True True True True True True ...  \n"
          ]
        }
      ],
      "source": [
        "print('Training Set Shape after Concatenating Sentences: ', df_train_concat.shape)\n",
        "# print('Validation Set Shape after Concatenating Sentences: ', df_val_concat.shape)\n",
        "# print('Test Set Shape after Concatenating Sentences: ', df_test_concat.shape)\n",
        "print(df_train_concat.head())"
      ]
    },
    {
      "cell_type": "code",
      "execution_count": 42,
      "metadata": {
        "id": "i4_xmau2Co3d"
      },
      "outputs": [],
      "source": [
        "# df_train_concat['length'] = df_train_concat.tokens.apply(lambda x: len(x))\n",
        "# df_val_concat['length'] = df_val_concat.tokens.apply(lambda x: len(x))"
      ]
    },
    {
      "cell_type": "code",
      "execution_count": 43,
      "metadata": {
        "id": "wn6aQvz4KsFk"
      },
      "outputs": [],
      "source": [
        "# df_train_concat.head()"
      ]
    },
    {
      "cell_type": "code",
      "execution_count": 44,
      "metadata": {
        "id": "nh5mu3m9KMlt"
      },
      "outputs": [],
      "source": [
        "# ## Sorting training and validation dataset\n",
        "# df_train_concat = df_train_concat.sort_values('length')\n",
        "# df_val_concat = df_val_concat.sort_values('length')\n",
        "# df_train_concat.head()"
      ]
    },
    {
      "cell_type": "code",
      "execution_count": 45,
      "metadata": {
        "id": "cMKi0wN-JtHY"
      },
      "outputs": [],
      "source": [
        "# df_train_concat.drop('length', axis=1, inplace=True)\n",
        "# df_val_concat.drop('length', axis=1, inplace=True)\n",
        "# df_train_concat"
      ]
    },
    {
      "cell_type": "code",
      "execution_count": 46,
      "metadata": {
        "id": "SXqk6pyK0yCn"
      },
      "outputs": [],
      "source": [
        "train_sentences = df_train_concat.tokens\n",
        "train_tags = df_train_concat.ner_tags"
      ]
    },
    {
      "cell_type": "code",
      "execution_count": 47,
      "metadata": {
        "id": "zSMtL7hZ0RT1",
        "colab": {
          "base_uri": "https://localhost:8080/"
        },
        "outputId": "6cd490b2-5c42-44e4-deac-7559ebcbdd59"
      },
      "outputs": [
        {
          "output_type": "stream",
          "name": "stdout",
          "text": [
            "(1527,)\n",
            "(170,)\n"
          ]
        }
      ],
      "source": [
        "train_sentences, test_sentences, train_tags, test_tags = train_test_split(train_sentences, train_tags, test_size=0.1, random_state=1)\n",
        "print(train_sentences.shape)\n",
        "print(test_sentences.shape)"
      ]
    },
    {
      "cell_type": "code",
      "execution_count": 48,
      "metadata": {
        "id": "o4eqxbAG2bi6",
        "colab": {
          "base_uri": "https://localhost:8080/"
        },
        "outputId": "6f8bf098-2cd5-4db1-9641-da0bf7c58eb9"
      },
      "outputs": [
        {
          "output_type": "execute_result",
          "data": {
            "text/plain": [
              "['1', '8', '68', '10', '116', '89', '1', '1721', '477', '60']"
            ]
          },
          "metadata": {},
          "execution_count": 48
        }
      ],
      "source": [
        "train_sentences.iloc[0][:10]"
      ]
    },
    {
      "cell_type": "code",
      "execution_count": 49,
      "metadata": {
        "id": "rBdXDDNJ1ja2"
      },
      "outputs": [],
      "source": [
        "train_sentences = [list(map(int, sentence)) for sentence in train_sentences]\n",
        "train_tags = [list(map(int, sentence)) for sentence in train_tags]\n",
        "test_sentences = [list(map(int, sentence)) for sentence in test_sentences]\n",
        "test_tags = [list(map(int, sentence)) for sentence in test_tags]"
      ]
    },
    {
      "cell_type": "code",
      "execution_count": 50,
      "metadata": {
        "id": "eGt3R4G12wU8",
        "colab": {
          "base_uri": "https://localhost:8080/"
        },
        "outputId": "74f09a98-f111-4a4c-aab5-5f7eeefa15c0"
      },
      "outputs": [
        {
          "output_type": "execute_result",
          "data": {
            "text/plain": [
              "[1, 8, 68, 10, 116, 89, 1, 1721, 477, 60]"
            ]
          },
          "metadata": {},
          "execution_count": 50
        }
      ],
      "source": [
        "train_sentences[0][:10]"
      ]
    },
    {
      "cell_type": "code",
      "execution_count": 50,
      "metadata": {
        "id": "Gu1YEauwSwpO"
      },
      "outputs": [],
      "source": [
        ""
      ]
    },
    {
      "cell_type": "code",
      "execution_count": 51,
      "metadata": {
        "id": "cJJW6ij20ROG",
        "colab": {
          "base_uri": "https://localhost:8080/"
        },
        "outputId": "4dda3e5b-98e6-40a9-9256-a7fd7438b087"
      },
      "outputs": [
        {
          "output_type": "stream",
          "name": "stdout",
          "text": [
            "train_data <PrefetchDataset element_spec=(TensorSpec(shape=(None, None), dtype=tf.int32, name=None), TensorSpec(shape=(None, None), dtype=tf.int32, name=None))>\n",
            "validation_data <PrefetchDataset element_spec=(TensorSpec(shape=(None, None), dtype=tf.int32, name=None), TensorSpec(shape=(None, None), dtype=tf.int32, name=None))>\n"
          ]
        }
      ],
      "source": [
        "# Your code here\n",
        "\n",
        "# Helper Code\n",
        "batch_size = 4\n",
        "train_shuffle_buffer_size = len(train_sentences)\n",
        "validation_shuffle_buffer_size = len(test_sentences)\n",
        "\n",
        "# Fill the required cells to complete the function\n",
        "def transform_pad(input, output):\n",
        "    \n",
        "    # Pad the inputs\n",
        "    input  = input.to_tensor(default_value=0, shape=[None, None])\n",
        "#     input = tf.reverse(input, axis=[-1])\n",
        "    \n",
        "    # Pad the outputs\n",
        "    output = output.to_tensor(default_value=0, shape=[None, None])\n",
        "#     output = tf.reverse(output, axis=[-1])\n",
        "    \n",
        "    return input, output\n",
        "\n",
        "# Use tensorflow ragged constants to get the ragged version of data\n",
        "# train_sentences = tf.keras.preprocessing.sequence.pad_sequences(train_sentences, padding=\"pre\")\n",
        "# train_tags = tf.keras.preprocessing.sequence.pad_sequences(train_tags, padding=\"pre\")\n",
        "# test_sentences = tf.keras.preprocessing.sequence.pad_sequences(test_sentences, padding=\"pre\")\n",
        "# test_tags = tf.keras.preprocessing.sequence.pad_sequences(test_tags, padding=\"pre\")\n",
        "\n",
        "train_processed_x = tf.ragged.constant(train_sentences)\n",
        "validate_processed_x = tf.ragged.constant(test_sentences)\n",
        "train_processed_y = tf.ragged.constant(train_tags)\n",
        "validate_processed_y = tf.ragged.constant(test_tags)\n",
        "\n",
        "# Create TF Dataset\n",
        "train_data = tf.data.Dataset.from_tensor_slices((train_processed_x, train_processed_y))\n",
        "validation_data = tf.data.Dataset.from_tensor_slices((validate_processed_x, validate_processed_y))\n",
        "\n",
        "#############\n",
        "# Train data\n",
        "#############\n",
        "# Apply all data processing logic\n",
        "train_data = train_data.shuffle(buffer_size=train_shuffle_buffer_size)\n",
        "train_data = train_data.batch(batch_size)\n",
        "train_data = train_data.map(transform_pad, num_parallel_calls=tf.data.AUTOTUNE)\n",
        "train_data = train_data.prefetch(tf.data.AUTOTUNE)\n",
        "\n",
        "##################\n",
        "# Validation data\n",
        "##################\n",
        "# Apply all data processing logic\n",
        "#validation_data = validation_data.shuffle(buffer_size=validation_shuffle_buffer_size)\n",
        "validation_data = validation_data.batch(batch_size)\n",
        "validation_data = validation_data.map(transform_pad, num_parallel_calls=tf.data.AUTOTUNE)\n",
        "validation_data = validation_data.prefetch(tf.data.AUTOTUNE)\n",
        "\n",
        "print(\"train_data\", train_data)\n",
        "print(\"validation_data\", validation_data)"
      ]
    },
    {
      "cell_type": "code",
      "execution_count": 52,
      "metadata": {
        "id": "m4v79telSwpO"
      },
      "outputs": [],
      "source": [
        "# # Your code here\n",
        "\n",
        "# # Helper Code\n",
        "# batch_size = 4\n",
        "# train_shuffle_buffer_size = len(train_sentences)\n",
        "# validation_shuffle_buffer_size = len(test_sentences)\n",
        "\n",
        "# # Pad the data.\n",
        "# def transform_pad(input):\n",
        "#     input  = input.to_tensor(default_value=0, shape=[None, None])\n",
        "#     return input\n",
        "\n",
        "# # Use tensorflow ragged constants to get the ragged version of data\n",
        "# train_processed_x = tf.ragged.constant(train_sentences)\n",
        "# validate_processed_x = tf.ragged.constant(test_sentences)\n",
        "# train_processed_y = tf.ragged.constant(train_tags)\n",
        "# validate_processed_y = tf.ragged.constant(test_tags)\n",
        "\n",
        "# # Create TF Dataset\n",
        "# x_train = tf.data.Dataset.from_tensor_slices(train_processed_x)\n",
        "# y_train = tf.data.Dataset.from_tensor_slices(train_processed_y)\n",
        "# x_val = tf.data.Dataset.from_tensor_slices(train_processed_x)\n",
        "# y_val = tf.data.Dataset.from_tensor_slices(train_processed_y)\n",
        "\n",
        "# #############\n",
        "# # Train data\n",
        "# #############\n",
        "# # Apply all data processing logic\n",
        "# train_data = train_data.shuffle(buffer_size=train_shuffle_buffer_size)\n",
        "# train_data = train_data.batch(batch_size)\n",
        "# train_data = train_data.map(transform_pad, num_parallel_calls=tf.data.AUTOTUNE)\n",
        "# train_data = train_data.prefetch(tf.data.AUTOTUNE)\n",
        "\n",
        "# ##################\n",
        "# # Validation data\n",
        "# ##################\n",
        "# # Apply all data processing logic\n",
        "# #validation_data = validation_data.shuffle(buffer_size=validation_shuffle_buffer_size)\n",
        "# validation_data = validation_data.batch(batch_size)\n",
        "# validation_data = validation_data.map(transform_pad, num_parallel_calls=tf.data.AUTOTUNE)\n",
        "# validation_data = validation_data.prefetch(tf.data.AUTOTUNE)\n",
        "\n",
        "# print(\"train_data\", train_data)\n",
        "# print(\"validation_data\", validation_data)"
      ]
    },
    {
      "cell_type": "code",
      "execution_count": 52,
      "metadata": {
        "id": "ZVun-dNKSwpO"
      },
      "outputs": [],
      "source": [
        ""
      ]
    },
    {
      "cell_type": "code",
      "execution_count": 53,
      "metadata": {
        "id": "u0-i3ODY4gCQ",
        "colab": {
          "base_uri": "https://localhost:8080/"
        },
        "outputId": "508aacaf-9d12-4fa6-e761-dbd207452573"
      },
      "outputs": [
        {
          "output_type": "stream",
          "name": "stdout",
          "text": [
            "(4, 539)\n",
            "tf.Tensor(\n",
            "[   6    2  805   33   29  178    8  414 1362   51    1    4  131   37\n",
            "    8  404 1041    6    2  415  133   10  379    2 1489 1305    2  146\n",
            "  319  253   50   19  686    5  680   20  487   44  743   31   22  269\n",
            "   54  224   44  291  187  253   31   28  269   54    1  717   87  113\n",
            "   31   27  187    1  187  120   31   27  187  253  322   28  269   54\n",
            "    1  717   87  113    4  187  120  403  187  253   31   27  187    1\n",
            "  229 1159 1301    9    1    2  130    3    2  294  808   37  368   26\n",
            "  423   19    7  168  349   24 1508   13  147  170    1    2  342    5\n",
            "  294  808   37    1  173 1834  613    4  173    1   55    1    4  120\n",
            " 1374   24   45  672   35   83   23    1    1   11  299    3    1   15\n",
            "   16  252  953  164   44  743  322   21  269   54  224   44  291   89\n",
            "    2    1  343    4    7  253  260    3   21  269   54    1  717   87\n",
            "  113 1863    7    7    1 1520  821  423   14    1   15   16  283    1\n",
            "   14  345    2   83    3    1   15   16  252  641    7  734    1  260\n",
            "   40    1   11  143    1  976  250    8  175   13    2  120  236  697\n",
            "  301  220    1    3  976    1  418   11    2    1    1    1  260  187\n",
            "    1  377    1   15   16  514    1   15   16  338  103    1   11 1163\n",
            "    1  118   76  279    1  377  410   14    1   15   16  111    4 1163\n",
            "   21  118   76  279    1  410   14    2  236   50   20   38  301  220\n",
            "    1   11  130  113  298   27   39   49   77   20  136    2  779    3\n",
            "    1    4    2  143 1077  976   11  128  489   77    9   30   20 1184\n",
            "  220    1    4  187    1  377   14    2 1139    1   15   16  790    1\n",
            "   15   16  718    1   15   16  514    1   15   16  124    1   15   16\n",
            "  124    1   15   16  151    5    2  220    1  287  187    1  377  340\n",
            "  250    8  742   13    2 1489    3    2    1    1    8   42    1 1044\n",
            "    2 1077  976    4   86  976   18  128  489   77 1009    2  220    1\n",
            "  287  187    1  377  340  222  139    4  628  976  229  594    5    1\n",
            "   15   16  151   30    1    7  873  166    3  120    1   33    3  976\n",
            "   18  128  489   36   69   83   46    2  286  763    3    1    3 1362\n",
            "  976  103    1    2 1068  130    3  220    1    5    1   15   16  151\n",
            "    8   30    8    5  303   11    1 1285    2  635    3    2  220    1\n",
            "  287  187    1  377  340   47   77    1    3    1  193   91    5    2\n",
            "  120  236  697  301  220    1  969    1    1  260   12    1    1   17\n",
            "  976   14    2  563    3    1   15   16  338    1   15   16  514    4\n",
            "    1    1    1  392   12  230    1   17  948  976    4    1    1    1\n",
            "   14    1   15   16  111   12  496   70  923    2  220    1  287  187\n",
            "    1  377  340   14    1   15   16  338    4    2    1   70   14    1\n",
            "   15   16  151   12  193 1701  791   97  976   11  128  489   77   14\n",
            "    2 1139 1715   14    1   15   16], shape=(539,), dtype=int32)\n",
            "************************\n",
            "(4, 539)\n",
            "tf.Tensor(\n",
            "[63 63 63 63 63 63 63 63 63 63  2 63 63 63 63 63 63 63 63 63 63 63 63 63\n",
            " 63 63 63 63 63 63 63 63 63 63 63 63 63 13 44 44 44 44 44 44 44 44 13 44\n",
            " 44 44 44 44 44 44 44 44 44 44 44 44 13 44 44 44 44 44 44 44 44 44 44 44\n",
            " 44 44 63 13 44 44 44 44 44 44 44 44 63 63 63 63  2 63 63 63 63 63 63 63\n",
            " 63 63 63 63 63 63 63 63 63 63 63 63 63 63 63 63 63 63 63 63 63 63 63 63\n",
            " 63 63 63 31 63 31 63 63 63 63 63 63 63  2 33 63 63 63  5 36 36 36 63 63\n",
            " 13 44 44 44 44 44 44 44 44 63 63 63 63 63 63 63 63 63 63 63 63 63 63 63\n",
            " 63 63 63 63 63 63 63 63 63  5 36 36 36 63 63 63 63 63 63  5 36 36 36 63\n",
            " 63 63 63 63 63 63 63 63 63 63 63 63 63 63 63 31 63 63 63 63 63 63 63 63\n",
            " 63 63 63 31 31 63 63 63 31 62  5 36 36 36  5 36 36 36 63  2 63 63 31 63\n",
            " 63 63 31 62 63 63  5 36 36 36 63 63 31 63 63 63 31 63 63 63 63 63 63 63\n",
            " 63 63 63 63 63 63 63 63 63 63 63 63 63 63 63 63  2 63 63 63 63 63 63 13\n",
            " 44 44 63 63 63 63 63 63 63 63 31 62 63 63 63  5 36 36 36  5 36 36 36  5\n",
            " 36 36 36  5 36 36 36  5 36 36 36  5 36 36 36 63 63 63 63 63 63 31 62 63\n",
            " 63 63 63 63 63 63 63 63 63  2 63 63 63 63 63 63 63 63 63 63 63 13 44 44\n",
            " 63 63 63 63 63 63 31 62 63 63 63 63 63 63 63 63 63  5 36 36 36 63 63 63\n",
            " 63 63 63 31 63 63 63 63 63 13 44 44 63 63 63 63 63 63 63 63 63 63 63 63\n",
            "  2 63 63 63 63 63 63 63  5 36 36 36 63 63 63 63 63 63 63 63 63 63 63 63\n",
            " 63 63 63 63 31 62 63 63 63 63 63  2 63 63 63 63 31 63 63 63 63 63 63 31\n",
            " 63 63 63 63 63 63 63 63 63 63 63  5 36 36 36  5 36 36 36 63  5 36 36 36\n",
            " 63 63 63 63 63 63 63  2 33 63 63  5 36 36 36 63 63 63 63 63 63 63 63 63\n",
            " 31 62 63 63  5 36 36 36 63 63 63 63 63  5 36 36 36 63 63 63 63 63 63 63\n",
            " 13 44 44 63 63 63 63 63  5 36 36], shape=(539,), dtype=int32)\n",
            "(4, 218)\n",
            "tf.Tensor(\n",
            "[ 511   24   62   32  248  176    9  407    7    1    4 1535 1463   30\n",
            " 1628  574    2  958    3   25  433    1  446    1    1    9  762   11\n",
            "  318   33    4    1    1    9  241  256 1822  101  448  122   24   62\n",
            "    2    1 1192    9    1  345    6   80   66   33    5   49  234    1\n",
            "    8   68   10    7 1886 1063   53   64  477    1   41   92    2   46\n",
            "   14    2  568   60  602    1  180    2   46    3    2    1    4 1598\n",
            "    1   29   58   48  141   80    3   33   14    2  251  172  893  667\n",
            "  621  478  929 1519   10    2  478  346 1448    4  939  952 1449  929\n",
            "  688    9    2 1449   48   99  201   10 1660 1214    5  485    2 1214\n",
            " 1688    5    2  478    1 1494   24  180    2  478 1235    1 1073    1\n",
            "    4    2 1449   29   58   82    2 1396  346    1  246   18    1   53\n",
            "  194   10    1   23 1938    3    2  568 1396    1 1024  428   29    1\n",
            "   34  315   10    1   61  257    1   60  602  568    1   60  602  568\n",
            " 1396    1   60  602    4    1   53 1396    8  213    3    2   61  257\n",
            "    1  446    2 1566   18    2    1   53    1    1  953    1    7    1\n",
            " 1410    5    1  138  222   25    6    1], shape=(218,), dtype=int32)\n",
            "************************\n",
            "(4, 218)\n",
            "tf.Tensor(\n",
            "[63 63 63 63 63 63 63 63 63 63 63 63 63 63 63 63 63 63 63 63 63 23 63 23\n",
            " 54 63 63 63 63 63 63 23 54 63 63 63 63 63 63 63 63 63 63 22 53 63 63 63\n",
            " 63 63 63 63 63 63 63 23 63 63 63 63 12 43 43 43 43 23 63 63 63 63 63 63\n",
            " 22 63 14 23 63 63 63 63 63 22 63 22 53 63 63 63 63 63 63 63 63 63 22 53\n",
            " 53 22 63 28 30 63 63 63 22 53 53 53 53 53 22 30 63 63 63 22 63 63 63 63\n",
            " 63 63 63 63 63 63 63 63 63  6 37 37 63 63 63 22 53 53 53 53 63 63 22 63\n",
            " 63 63 63  7 38 38 38 63 22 53 63 63 22 63 63 63 63 22  7 38 38 30 63 63\n",
            " 63 63 63 22  7 38 14 45 45 22 14 45 45 22 14 45 45 45 63 22 53  7 63 63\n",
            " 63 63  7 38 23 63 63 63 63 63 22 53 53 53 63 63 63 63 63 63 63 63 63 63\n",
            " 63 63], shape=(218,), dtype=int32)\n"
          ]
        }
      ],
      "source": [
        "# View some data from tf dataset\n",
        "for input_f, output_f in train_data.take(2):\n",
        "  print(input_f.shape)\n",
        "  print(input_f[0])\n",
        "#   print(input_b[0])\n",
        "  print(\"************************\")\n",
        "  print(output_f.shape)\n",
        "  print(output_f[0])\n",
        "#   print(output_b[0])"
      ]
    },
    {
      "cell_type": "code",
      "source": [
        ""
      ],
      "metadata": {
        "id": "4E_XAQkMiO5b"
      },
      "execution_count": 53,
      "outputs": []
    },
    {
      "cell_type": "code",
      "source": [
        "vocab = list(word_to_token.keys())[:2000]\n",
        "common_words = list(set(vocab) & set(word2vec_vocab))\n",
        "print('Number of common words in Word2Vec and IMDB tokens are: ', len(common_words))"
      ],
      "metadata": {
        "colab": {
          "base_uri": "https://localhost:8080/",
          "height": 191
        },
        "id": "U8ZvYKB6xCAa",
        "outputId": "b08db135-5ee9-4e65-ffa5-b2f541d0cd13"
      },
      "execution_count": 54,
      "outputs": [
        {
          "output_type": "error",
          "ename": "NameError",
          "evalue": "ignored",
          "traceback": [
            "\u001b[0;31m---------------------------------------------------------------------------\u001b[0m",
            "\u001b[0;31mNameError\u001b[0m                                 Traceback (most recent call last)",
            "\u001b[0;32m<ipython-input-54-b681f16be8bc>\u001b[0m in \u001b[0;36m<module>\u001b[0;34m()\u001b[0m\n\u001b[1;32m      1\u001b[0m \u001b[0mvocab\u001b[0m \u001b[0;34m=\u001b[0m \u001b[0mlist\u001b[0m\u001b[0;34m(\u001b[0m\u001b[0mword_to_token\u001b[0m\u001b[0;34m.\u001b[0m\u001b[0mkeys\u001b[0m\u001b[0;34m(\u001b[0m\u001b[0;34m)\u001b[0m\u001b[0;34m)\u001b[0m\u001b[0;34m[\u001b[0m\u001b[0;34m:\u001b[0m\u001b[0;36m2000\u001b[0m\u001b[0;34m]\u001b[0m\u001b[0;34m\u001b[0m\u001b[0;34m\u001b[0m\u001b[0m\n\u001b[0;32m----> 2\u001b[0;31m \u001b[0mcommon_words\u001b[0m \u001b[0;34m=\u001b[0m \u001b[0mlist\u001b[0m\u001b[0;34m(\u001b[0m\u001b[0mset\u001b[0m\u001b[0;34m(\u001b[0m\u001b[0mvocab\u001b[0m\u001b[0;34m)\u001b[0m \u001b[0;34m&\u001b[0m \u001b[0mset\u001b[0m\u001b[0;34m(\u001b[0m\u001b[0mword2vec_vocab\u001b[0m\u001b[0;34m)\u001b[0m\u001b[0;34m)\u001b[0m\u001b[0;34m\u001b[0m\u001b[0;34m\u001b[0m\u001b[0m\n\u001b[0m\u001b[1;32m      3\u001b[0m \u001b[0mprint\u001b[0m\u001b[0;34m(\u001b[0m\u001b[0;34m'Number of common words in Word2Vec and IMDB tokens are: '\u001b[0m\u001b[0;34m,\u001b[0m \u001b[0mlen\u001b[0m\u001b[0;34m(\u001b[0m\u001b[0mcommon_words\u001b[0m\u001b[0;34m)\u001b[0m\u001b[0;34m)\u001b[0m\u001b[0;34m\u001b[0m\u001b[0;34m\u001b[0m\u001b[0m\n",
            "\u001b[0;31mNameError\u001b[0m: name 'word2vec_vocab' is not defined"
          ]
        }
      ]
    },
    {
      "cell_type": "code",
      "source": [
        "## Creating a use-friendly dictionary for embeddings of all the common words.\n",
        "embedding_dict = {word: word_vectors[word] for word in common_words if word != '<UNK>'}\n",
        "\n",
        "## Add the updated UNK token embeddings.\n",
        "embedding_dict['<UNK>'] = np.random.uniform(low=-1, high=1, size=(300,))\n",
        "\n",
        "print(len(embedding_dict))"
      ],
      "metadata": {
        "id": "Uh4aFi9Ew14r"
      },
      "execution_count": null,
      "outputs": []
    },
    {
      "cell_type": "code",
      "source": [
        "## Create embedding_dict, a dictionary with tokens, as presented in the training data, as keys\n",
        "embedding_dict_tokens = dict()\n",
        "vocab_tokens = []\n",
        "\n",
        "for word in vocab:\n",
        "  token = word_to_token[word]\n",
        "  if word not in common_words:\n",
        "    embedding_dict_tokens[token] = embedding_dict['<UNK>']   ## choosing the <UNK> embeddings for words in top 5000 but not in Word2Vec\n",
        "  else:\n",
        "    embedding_dict_tokens[token] = embedding_dict[word]\n",
        "    vocab_tokens.append(token)"
      ],
      "metadata": {
        "id": "KHTPl7PjyWLE"
      },
      "execution_count": null,
      "outputs": []
    },
    {
      "cell_type": "code",
      "source": [
        "## Create embedding matrix which the index being the token number and the 300 columns representing embeddings\n",
        "vocab_size = len(embedding_dict_tokens)\n",
        "embedding_matrix = np.zeros(shape=(vocab_size,300))\n",
        "\n",
        "for token_num in range(vocab_size):\n",
        "  embedding_matrix[token_num] = embedding_dict_tokens[token_num+1]\n",
        "\n",
        "embedding_matrix.shape"
      ],
      "metadata": {
        "id": "_Devdh6wxjk1"
      },
      "execution_count": null,
      "outputs": []
    },
    {
      "cell_type": "code",
      "execution_count": 63,
      "metadata": {
        "id": "45HPG-Nt4t8p"
      },
      "outputs": [],
      "source": [
        "# Your code here\n",
        "\n",
        "hidden_size_LSTM = 150\n",
        "hidden_size_Dense = 150\n",
        "\n",
        "def build_model():\n",
        "\n",
        "  ## Dropout Layer\n",
        "  dropout_f = tf.keras.layers.Dropout(0.5)\n",
        "  dropout_b = tf.keras.layers.Dropout(0.5)\n",
        "\n",
        "  ## ---------------------------------------------------------------------------\n",
        "  ## FORWARD LAYER -------------------------------------------------------------\n",
        "  ## ---------------------------------------------------------------------------\n",
        "\n",
        "  ## Define input layer.\n",
        "  inputs_f = tf.keras.Input(shape=[None])\n",
        "\n",
        "\n",
        "  ## Embedding Layer for forward.\n",
        "  embedding_layer_f = tf.keras.layers.Embedding(input_dim=2000,\n",
        "                                                output_dim=300,\n",
        "                                                # weights=[embedding_matrix],\n",
        "                                                # input_length=max_length,\n",
        "                                                trainable=True,\n",
        "                                                mask_zero=True)\n",
        "\n",
        "  ## Create a forward LSTM.\n",
        "  RNN1_layer_f = tf.keras.layers.LSTM(hidden_size_LSTM, return_sequences=True)\n",
        "\n",
        "\n",
        "  ## Create a dense layer for simulating the highway layer rather than using it here.\n",
        "  dense_layer_f = tf.keras.layers.Dense(units=hidden_size_Dense, activation='linear', use_bias=False)\n",
        "\n",
        "\n",
        "  ## Create an additive layer.\n",
        "  additive_layer_f = tf.keras.layers.Add()\n",
        "\n",
        "\n",
        "  ## Create second forward LSTM.\n",
        "  RNN2_layer_f = tf.keras.layers.LSTM(hidden_size_LSTM, return_sequences=True)\n",
        "\n",
        "\n",
        "  ## Pass Inputs ---------------------------------------------------------------\n",
        "\n",
        "  embedding_f = embedding_layer_f(inputs_f)   ## Get forward and backward embeddings.\n",
        "  r_f = RNN1_layer_f(embedding_f)             ## Get LSTM outputs.\n",
        "  drop_rf = dropout_f(r_f)\n",
        "  z_f = dense_layer_f(embedding_f)            ## Get Dense layer outputs.\n",
        "  drop_zf = dropout_f(z_f)\n",
        "  # h_int_f = additive_layer_f([r_f, z_f])      ## Get addition of LSTM and Dense Layer outputs.\n",
        "  h_f = RNN2_layer_f(drop_rf + drop_zf)                 ## Get LSTM2 outputs.\n",
        "  \n",
        "\n",
        "\n",
        "  ## ---------------------------------------------------------------------------\n",
        "  ## BACKWARD LAYER ------------------------------------------------------------\n",
        "  ## ---------------------------------------------------------------------------\n",
        "\n",
        "  ## Define input layer.\n",
        "  # inputs_b = tf.keras.Input(shape=[None])\n",
        "\n",
        "\n",
        "  ## Embedding Layer for forward.\n",
        "  # embedding_layer_b = tf.keras.layers.Embedding(input_dim=2000,\n",
        "  #                                               output_dim=300,\n",
        "  #                                               # weights=[embedding_matrix],\n",
        "  #                                               # input_length=max_length,\n",
        "  #                                               trainable=True,\n",
        "  #                                               mask_zero=True)\n",
        "\n",
        "  ## Create a forward LSTM.\n",
        "  RNN1_layer_b = tf.keras.layers.LSTM(hidden_size_LSTM, return_sequences=True, go_backwards=True)\n",
        "\n",
        "\n",
        "  ## Create a dense layer for simulating the highway layer rather than using it here.\n",
        "  dense_layer_b = tf.keras.layers.Dense(units=hidden_size_Dense, activation=None, use_bias=False)\n",
        "\n",
        "\n",
        "  ## Create an additive layer.\n",
        "  additive_layer_b = tf.keras.layers.Add()\n",
        "\n",
        "\n",
        "  ## Create second forward LSTM.\n",
        "  RNN2_layer_b = tf.keras.layers.LSTM(hidden_size_LSTM, return_sequences=True, go_backwards=True)\n",
        "\n",
        "\n",
        "  ## Pass Inputs ------------------------------------------------------------\n",
        "\n",
        "  # embedding_f = embedding_layer_f(inputs_f)   ## Get forward and backward embeddings.\n",
        "  r_b = RNN1_layer_b(embedding_f)             ## Get LSTM outputs.\n",
        "  r_b = r_b[:,::-1,:]\n",
        "  drop_rb = dropout_b(r_b)\n",
        "  z_b = dense_layer_b(embedding_f)            ## Get Dense layer outputs.\n",
        "  drop_zb = dropout_b(z_b)\n",
        "  # h_int_b = additive_layer_b([r_b, z_b])      ## Get addition of LSTM and Dense Layer outputs.\n",
        "  h_b = RNN2_layer_b(drop_rb + drop_zb)                 ## Get LSTM2 outputs.\n",
        "  h_b = h_b[:,::-1,:]\n",
        "\n",
        "\n",
        "\n",
        "  ## ---------------------------------------------------------------------------\n",
        "  ## For Toy_ELMo LAYER --------------------------------------------------------\n",
        "  ## ---------------------------------------------------------------------------\n",
        "\n",
        "  # embeddings_f is also needed to be sent out.\n",
        "#   r_fb = tf.keras.layers.Concatenate(axis=-1)([r_f, r_b])   ## for Toy_ELMo\n",
        "#   h_fb = tf.keras.layers.Concatenate(axis=-1)([h_f, h_b])   ## for Toy_ELMo\n",
        "\n",
        "\n",
        "  ## ---------------------------------------------------------------------------\n",
        "  ## For Outputs ---------------------------------------------------------------\n",
        "  ## ---------------------------------------------------------------------------\n",
        "\n",
        "\n",
        "  ## Create Softmax Layer.\n",
        "  softmaxLayer = tf.keras.layers.TimeDistributed(tf.keras.layers.Dense(units=2000, activation='softmax', name='softmaxLayer'))\n",
        "\n",
        "  output_f = softmaxLayer(h_f)\n",
        "  output_b = softmaxLayer(h_b)\n",
        "\n",
        "  output = 0.5*output_f + 0.5*output_b\n",
        "\n",
        "\n",
        "  ## ---------------------------------------------------------------------------\n",
        "  ## Setup the Outputs ---------------------------------------------------------\n",
        "  ## ---------------------------------------------------------------------------\n",
        "\n",
        "  ## Set up the model with appropriate inputs and the output defined above \n",
        "  model = tf.keras.Model(inputs=inputs_f, outputs=output, name='Model')\n",
        "  \n",
        "  ## Creating a Toy_ELMo model for prediction.\n",
        "#   Toy_ELMo_model = tf.keras.Model(inputs=(inputs_f, inputs_b), outputs=[embedding_f, r_fb, h_fb], name='Toy_ELMo')\n",
        "\n",
        "\n",
        "  return model"
      ]
    },
    {
      "cell_type": "code",
      "execution_count": 64,
      "metadata": {
        "id": "z5ebNObL4x3J",
        "colab": {
          "base_uri": "https://localhost:8080/"
        },
        "outputId": "72a87b3c-74b3-484f-df2a-15fc23425aa5"
      },
      "outputs": [
        {
          "output_type": "stream",
          "name": "stdout",
          "text": [
            "Model: \"Model\"\n",
            "__________________________________________________________________________________________________\n",
            " Layer (type)                   Output Shape         Param #     Connected to                     \n",
            "==================================================================================================\n",
            " input_1 (InputLayer)           [(None, None)]       0           []                               \n",
            "                                                                                                  \n",
            " embedding (Embedding)          (None, None, 300)    600000      ['input_1[0][0]']                \n",
            "                                                                                                  \n",
            " lstm_2 (LSTM)                  (None, None, 150)    270600      ['embedding[0][0]']              \n",
            "                                                                                                  \n",
            " tf.__operators__.getitem (Slic  (None, None, 150)   0           ['lstm_2[0][0]']                 \n",
            " ingOpLambda)                                                                                     \n",
            "                                                                                                  \n",
            " dense_1 (Dense)                (None, None, 150)    45000       ['embedding[0][0]']              \n",
            "                                                                                                  \n",
            " lstm (LSTM)                    (None, None, 150)    270600      ['embedding[0][0]']              \n",
            "                                                                                                  \n",
            " dense (Dense)                  (None, None, 150)    45000       ['embedding[0][0]']              \n",
            "                                                                                                  \n",
            " dropout_1 (Dropout)            (None, None, 150)    0           ['tf.__operators__.getitem[0][0]'\n",
            "                                                                 , 'dense_1[0][0]']               \n",
            "                                                                                                  \n",
            " dropout (Dropout)              (None, None, 150)    0           ['lstm[0][0]',                   \n",
            "                                                                  'dense[0][0]']                  \n",
            "                                                                                                  \n",
            " tf.__operators__.add_1 (TFOpLa  (None, None, 150)   0           ['dropout_1[0][0]',              \n",
            " mbda)                                                            'dropout_1[1][0]']              \n",
            "                                                                                                  \n",
            " tf.__operators__.add (TFOpLamb  (None, None, 150)   0           ['dropout[0][0]',                \n",
            " da)                                                              'dropout[1][0]']                \n",
            "                                                                                                  \n",
            " lstm_3 (LSTM)                  (None, None, 150)    180600      ['tf.__operators__.add_1[0][0]'] \n",
            "                                                                                                  \n",
            " lstm_1 (LSTM)                  (None, None, 150)    180600      ['tf.__operators__.add[0][0]']   \n",
            "                                                                                                  \n",
            " tf.__operators__.getitem_1 (Sl  (None, None, 150)   0           ['lstm_3[0][0]']                 \n",
            " icingOpLambda)                                                                                   \n",
            "                                                                                                  \n",
            " time_distributed (TimeDistribu  (None, None, 2000)  302000      ['lstm_1[0][0]',                 \n",
            " ted)                                                             'tf.__operators__.getitem_1[0][0\n",
            "                                                                 ]']                              \n",
            "                                                                                                  \n",
            " tf.math.multiply (TFOpLambda)  (None, None, 2000)   0           ['time_distributed[0][0]']       \n",
            "                                                                                                  \n",
            " tf.math.multiply_1 (TFOpLambda  (None, None, 2000)  0           ['time_distributed[1][0]']       \n",
            " )                                                                                                \n",
            "                                                                                                  \n",
            " tf.__operators__.add_2 (TFOpLa  (None, None, 2000)  0           ['tf.math.multiply[0][0]',       \n",
            " mbda)                                                            'tf.math.multiply_1[0][0]']     \n",
            "                                                                                                  \n",
            "==================================================================================================\n",
            "Total params: 1,894,400\n",
            "Trainable params: 1,894,400\n",
            "Non-trainable params: 0\n",
            "__________________________________________________________________________________________________\n",
            "None\n"
          ]
        }
      ],
      "source": [
        "############################\n",
        "# Training Params\n",
        "############################\n",
        "\n",
        "import time\n",
        "\n",
        "learning_rate = 5e-3\n",
        "epochs = 40\n",
        "\n",
        "# Free up memory\n",
        "tf.keras.backend.clear_session()\n",
        "\n",
        "# Build the model\n",
        "model = build_model()\n",
        "\n",
        "# Print the model architecture\n",
        "print(model.summary())\n",
        "\n",
        "# Optimizer\n",
        "optimizer = tf.keras.optimizers.Adam(learning_rate=learning_rate)\n",
        "\n",
        "# Loss\n",
        "loss = tf.keras.losses.sparse_categorical_crossentropy\n",
        "\n",
        "# Callbacks\n",
        "my_callbacks = [\n",
        "    tf.keras.callbacks.EarlyStopping(patience=3, monitor='val_loss'),\n",
        "    tf.keras.callbacks.ModelCheckpoint(filepath='model_2.{epoch:02d}-{loss:.2f}.h5'),\n",
        "]\n",
        "\n",
        "# Compile\n",
        "model.compile(loss=[loss, loss],\n",
        "              loss_weights=[1, 1],    ## add both the losses with equal weights\n",
        "              optimizer=optimizer,\n",
        "              metrics=[tf.keras.metrics.sparse_categorical_accuracy])\n",
        "\n",
        "# dot_img_file = '/tmp/model.png'\n",
        "# tf.keras.utils.plot_model(model, to_file=dot_img_file, show_shapes=False)"
      ]
    },
    {
      "cell_type": "code",
      "execution_count": 65,
      "metadata": {
        "id": "e2zf0r-M4xxq",
        "colab": {
          "base_uri": "https://localhost:8080/"
        },
        "outputId": "5ab8b7bb-2323-4179-8a3e-fcb1db4965f5"
      },
      "outputs": [
        {
          "output_type": "stream",
          "name": "stdout",
          "text": [
            "Epoch 1/40\n",
            "382/382 [==============================] - 46s 92ms/step - loss: 0.5265 - sparse_categorical_accuracy: 0.9036 - val_loss: 0.2948 - val_sparse_categorical_accuracy: 0.9284\n",
            "Epoch 2/40\n",
            "382/382 [==============================] - 32s 82ms/step - loss: 0.3100 - sparse_categorical_accuracy: 0.9267 - val_loss: 0.2493 - val_sparse_categorical_accuracy: 0.9370\n",
            "Epoch 3/40\n",
            "382/382 [==============================] - 32s 84ms/step - loss: 0.2703 - sparse_categorical_accuracy: 0.9331 - val_loss: 0.2204 - val_sparse_categorical_accuracy: 0.9430\n",
            "Epoch 4/40\n",
            "382/382 [==============================] - 32s 83ms/step - loss: 0.2383 - sparse_categorical_accuracy: 0.9398 - val_loss: 0.2078 - val_sparse_categorical_accuracy: 0.9463\n",
            "Epoch 5/40\n",
            "382/382 [==============================] - 32s 83ms/step - loss: 0.2233 - sparse_categorical_accuracy: 0.9432 - val_loss: 0.2035 - val_sparse_categorical_accuracy: 0.9478\n",
            "Epoch 6/40\n",
            "382/382 [==============================] - 31s 82ms/step - loss: 0.2171 - sparse_categorical_accuracy: 0.9444 - val_loss: 0.2000 - val_sparse_categorical_accuracy: 0.9502\n",
            "Epoch 7/40\n",
            "382/382 [==============================] - 33s 86ms/step - loss: 0.2020 - sparse_categorical_accuracy: 0.9470 - val_loss: 0.1901 - val_sparse_categorical_accuracy: 0.9507\n",
            "Epoch 8/40\n",
            "382/382 [==============================] - 32s 84ms/step - loss: 0.2054 - sparse_categorical_accuracy: 0.9470 - val_loss: 0.1903 - val_sparse_categorical_accuracy: 0.9508\n",
            "Epoch 9/40\n",
            "382/382 [==============================] - 33s 87ms/step - loss: 0.1989 - sparse_categorical_accuracy: 0.9475 - val_loss: 0.1848 - val_sparse_categorical_accuracy: 0.9517\n",
            "Epoch 10/40\n",
            "382/382 [==============================] - 33s 85ms/step - loss: 0.1955 - sparse_categorical_accuracy: 0.9489 - val_loss: 0.1861 - val_sparse_categorical_accuracy: 0.9527\n",
            "Epoch 11/40\n",
            "382/382 [==============================] - 32s 84ms/step - loss: 0.1969 - sparse_categorical_accuracy: 0.9491 - val_loss: 0.1892 - val_sparse_categorical_accuracy: 0.9511\n",
            "Epoch 12/40\n",
            "382/382 [==============================] - 32s 85ms/step - loss: 0.1952 - sparse_categorical_accuracy: 0.9496 - val_loss: 0.1856 - val_sparse_categorical_accuracy: 0.9533\n",
            "Training execution time (mins) 8.20338942607244\n"
          ]
        }
      ],
      "source": [
        "# Train model\n",
        "start_time = time.time()\n",
        "\n",
        "training_results = model.fit(\n",
        "        train_data,\n",
        "        epochs=epochs, \n",
        "        verbose=1,\n",
        "        validation_data=validation_data,\n",
        "        callbacks=my_callbacks)\n",
        "\n",
        "execution_time = (time.time() - start_time)/60.0\n",
        "print(\"Training execution time (mins)\",execution_time)"
      ]
    },
    {
      "cell_type": "code",
      "execution_count": 66,
      "metadata": {
        "id": "uKBzFvhGQJOF",
        "colab": {
          "base_uri": "https://localhost:8080/",
          "height": 278
        },
        "outputId": "8e7f395c-94f5-4127-8563-f78bd55b41c5"
      },
      "outputs": [
        {
          "output_type": "display_data",
          "data": {
            "text/plain": [
              "<Figure size 432x288 with 1 Axes>"
            ],
            "image/png": "[encoded data removed]"
          },
          "metadata": {
            "needs_background": "light"
          }
        }
      ],
      "source": [
        "# Plot the trace plot of the loss of the model\n",
        "plt.plot(training_results.history['loss'], label='Train')\n",
        "plt.plot(training_results.history['val_loss'], label='Validation')\n",
        "plt.ylabel('Loss')\n",
        "plt.xlabel('Epochs')\n",
        "plt.legend(loc=0)\n",
        "plt.show()"
      ]
    },
    {
      "cell_type": "code",
      "execution_count": 67,
      "metadata": {
        "id": "CuXmrgCESwpQ",
        "colab": {
          "base_uri": "https://localhost:8080/",
          "height": 278
        },
        "outputId": "c0e09cda-6f36-4444-e2f4-63080d00d592"
      },
      "outputs": [
        {
          "output_type": "display_data",
          "data": {
            "text/plain": [
              "<Figure size 432x288 with 1 Axes>"
            ],
            "image/png": "[encoded data removed]"
          },
          "metadata": {
            "needs_background": "light"
          }
        }
      ],
      "source": [
        "# Plot the trace plot of the loss of the model\n",
        "plt.plot(training_results.history['sparse_categorical_accuracy'], label='Train')\n",
        "plt.plot(training_results.history['val_sparse_categorical_accuracy'], label='Validation')\n",
        "plt.ylabel('Accuracy')\n",
        "plt.xlabel('Epochs')\n",
        "plt.legend(loc=0)\n",
        "plt.show()"
      ]
    },
    {
      "cell_type": "code",
      "execution_count": 68,
      "metadata": {
        "id": "mKOtgq_aJtHb"
      },
      "outputs": [],
      "source": [
        "# # Plot the trace plot of the accuracy of the predictions made by the model\n",
        "# average_accuracy = training_results.history['sparse_categorical_accuracy']\n",
        "# average_val_accuracy = np.add(training_results.history['val_softmaxLayer_sparse_categorical_accuracy'], training_results.history['val_softmaxLayer_1_sparse_categorical_accuracy'])/2\n",
        "# plt.plot(average_accuracy, label='Train')\n",
        "# plt.plot(average_val_accuracy, label='Validation')\n",
        "# plt.ylabel('Accuracy')\n",
        "# plt.xlabel('Epochs')\n",
        "# plt.legend(loc=0)\n",
        "# plt.show()"
      ]
    },
    {
      "cell_type": "code",
      "execution_count": 69,
      "metadata": {
        "id": "qbbcZ48hA8um",
        "colab": {
          "base_uri": "https://localhost:8080/"
        },
        "outputId": "e1821975-dc05-4893-9ccc-8f35413554d8"
      },
      "outputs": [
        {
          "output_type": "stream",
          "name": "stdout",
          "text": [
            "test_data <PrefetchDataset element_spec=(TensorSpec(shape=(None, None), dtype=tf.int32, name=None), TensorSpec(shape=(None, None), dtype=tf.int32, name=None))>\n"
          ]
        }
      ],
      "source": [
        "# Your code here\n",
        "\n",
        "# Helper Code\n",
        "batch_size = len(test_sentences)\n",
        "# train_shuffle_buffer_size = len(test_sentences)\n",
        "# validation_shuffle_buffer_size = len(test_sentences)\n",
        "\n",
        "# Fill the required cells to complete the function\n",
        "def transform_pad(input, output):\n",
        "    \n",
        "    # Pad the inputs\n",
        "    input  = input.to_tensor(default_value=0, shape=[None, None])\n",
        "    \n",
        "    # Pad the outputs\n",
        "    output = output.to_tensor(default_value=0, shape=[None, None])\n",
        "    \n",
        "    return input, output\n",
        "\n",
        "# Use tensorflow ragged constants to get the ragged version of data\n",
        "test_processed_x = tf.ragged.constant(test_sentences)\n",
        "test_processed_y = tf.ragged.constant(test_tags)\n",
        "\n",
        "# Create TF Dataset\n",
        "test_data = tf.data.Dataset.from_tensor_slices((test_processed_x, test_processed_y))\n",
        "\n",
        "#############\n",
        "# Test data\n",
        "#############\n",
        "# Apply all data processing logic\n",
        "# train_data = train_data.shuffle(buffer_size=train_shuffle_buffer_size)\n",
        "test_data = test_data.batch(batch_size)\n",
        "test_data = test_data.map(transform_pad, num_parallel_calls=tf.data.AUTOTUNE)\n",
        "test_data = test_data.prefetch(tf.data.AUTOTUNE)\n",
        "\n",
        "print(\"test_data\", test_data)"
      ]
    },
    {
      "cell_type": "code",
      "execution_count": 70,
      "metadata": {
        "id": "zf1PtPldSwpQ",
        "colab": {
          "base_uri": "https://localhost:8080/"
        },
        "outputId": "642adb11-5baf-4d7f-c1cf-f2e2abac5730"
      },
      "outputs": [
        {
          "output_type": "execute_result",
          "data": {
            "text/plain": [
              "170"
            ]
          },
          "metadata": {},
          "execution_count": 70
        }
      ],
      "source": [
        "batch_size"
      ]
    },
    {
      "cell_type": "code",
      "execution_count": 71,
      "metadata": {
        "id": "fkEd2GWmSwpR",
        "colab": {
          "base_uri": "https://localhost:8080/"
        },
        "outputId": "5e463965-a113-48b6-cf2d-48a3c4e59386"
      },
      "outputs": [
        {
          "output_type": "stream",
          "name": "stdout",
          "text": [
            "(170, 586)\n",
            "tf.Tensor(\n",
            "[ 511   29  138   48  141   80    3   33    4 1148  201   10    2 1045\n",
            "  601  337   72 1206   64  324    1   30    8    7    1    3    2  337\n",
            "   72    1   18  116    4    2 1045  601  337    1    3    2 1634 1132\n",
            "  192   24  180    2   80    3    1   33   14    2 1152    4 1774   33\n",
            "    1   39   25   58   20 1908   65  420   11    1   32  667  203   11\n",
            " 1531    4 1307   33  946  315   10  667 1367 1053 1116    2 1830    1\n",
            "    1  646    1 1640    1 1570    4   11    2    1    3    1    4    2\n",
            " 1392   24   41  180    2   80    3 1478  337  346 1000    1    4    3\n",
            "    2 1712   33 1084  194   18 1386 1303  646   24   62 1524    1    1\n",
            "    9  241  256   23 1774    1 1222    1    1    4 1524    1    1    9\n",
            "  407  277 1222    1    9    1    1    0    0    0    0    0    0    0\n",
            "    0    0    0    0    0    0    0    0    0    0    0    0    0    0\n",
            "    0    0    0    0    0    0    0    0    0    0    0    0    0    0\n",
            "    0    0    0    0    0    0    0    0    0    0    0    0    0    0\n",
            "    0    0    0    0    0    0    0    0    0    0    0    0    0    0\n",
            "    0    0    0    0    0    0    0    0    0    0    0    0    0    0\n",
            "    0    0    0    0    0    0    0    0    0    0    0    0    0    0\n",
            "    0    0    0    0    0    0    0    0    0    0    0    0    0    0\n",
            "    0    0    0    0    0    0    0    0    0    0    0    0    0    0\n",
            "    0    0    0    0    0    0    0    0    0    0    0    0    0    0\n",
            "    0    0    0    0    0    0    0    0    0    0    0    0    0    0\n",
            "    0    0    0    0    0    0    0    0    0    0    0    0    0    0\n",
            "    0    0    0    0    0    0    0    0    0    0    0    0    0    0\n",
            "    0    0    0    0    0    0    0    0    0    0    0    0    0    0\n",
            "    0    0    0    0    0    0    0    0    0    0    0    0    0    0\n",
            "    0    0    0    0    0    0    0    0    0    0    0    0    0    0\n",
            "    0    0    0    0    0    0    0    0    0    0    0    0    0    0\n",
            "    0    0    0    0    0    0    0    0    0    0    0    0    0    0\n",
            "    0    0    0    0    0    0    0    0    0    0    0    0    0    0\n",
            "    0    0    0    0    0    0    0    0    0    0    0    0    0    0\n",
            "    0    0    0    0    0    0    0    0    0    0    0    0    0    0\n",
            "    0    0    0    0    0    0    0    0    0    0    0    0    0    0\n",
            "    0    0    0    0    0    0    0    0    0    0    0    0    0    0\n",
            "    0    0    0    0    0    0    0    0    0    0    0    0    0    0\n",
            "    0    0    0    0    0    0    0    0    0    0    0    0    0    0\n",
            "    0    0    0    0    0    0    0    0    0    0    0    0    0    0\n",
            "    0    0    0    0    0    0    0    0    0    0    0    0    0    0\n",
            "    0    0    0    0    0    0    0    0    0    0    0    0    0    0\n",
            "    0    0    0    0    0    0    0    0    0    0    0    0    0    0\n",
            "    0    0    0    0    0    0    0    0    0    0    0    0    0    0\n",
            "    0    0    0    0    0    0    0    0    0    0    0    0    0    0\n",
            "    0    0    0    0    0    0    0    0    0    0    0    0], shape=(586,), dtype=int32)\n",
            "************************\n",
            "(170, 586)\n",
            "tf.Tensor(\n",
            "[63 63 63 63 63 63 63 63 63 63 63 63 63  1 32 32 32 32 32 32  1 63 63 63\n",
            " 63 63 63 22 53 53 63 22 63 63 22 53 53 53 63 63 21 52 52 63 63 63 63 63\n",
            " 63 63 63 63  1 32 32 32 32 63 63 63 63 63 63 63 63 28 63 22 63 63 63 63\n",
            " 63 63 63 63 63 22 63 63 63 63 63 63 17 17 17 17 17 17 63 63 63 63 63 17\n",
            " 63 63 17 63 63 63 63 63 63 31 62 62 62 31 63 63 63  8 39 39 63 63 22 17\n",
            " 48 63 63 23 54 54 63 63 63 63 21 28 63 63 63 63 23 54 54 63 63 31 63 63\n",
            " 63  2 33  0  0  0  0  0  0  0  0  0  0  0  0  0  0  0  0  0  0  0  0  0\n",
            "  0  0  0  0  0  0  0  0  0  0  0  0  0  0  0  0  0  0  0  0  0  0  0  0\n",
            "  0  0  0  0  0  0  0  0  0  0  0  0  0  0  0  0  0  0  0  0  0  0  0  0\n",
            "  0  0  0  0  0  0  0  0  0  0  0  0  0  0  0  0  0  0  0  0  0  0  0  0\n",
            "  0  0  0  0  0  0  0  0  0  0  0  0  0  0  0  0  0  0  0  0  0  0  0  0\n",
            "  0  0  0  0  0  0  0  0  0  0  0  0  0  0  0  0  0  0  0  0  0  0  0  0\n",
            "  0  0  0  0  0  0  0  0  0  0  0  0  0  0  0  0  0  0  0  0  0  0  0  0\n",
            "  0  0  0  0  0  0  0  0  0  0  0  0  0  0  0  0  0  0  0  0  0  0  0  0\n",
            "  0  0  0  0  0  0  0  0  0  0  0  0  0  0  0  0  0  0  0  0  0  0  0  0\n",
            "  0  0  0  0  0  0  0  0  0  0  0  0  0  0  0  0  0  0  0  0  0  0  0  0\n",
            "  0  0  0  0  0  0  0  0  0  0  0  0  0  0  0  0  0  0  0  0  0  0  0  0\n",
            "  0  0  0  0  0  0  0  0  0  0  0  0  0  0  0  0  0  0  0  0  0  0  0  0\n",
            "  0  0  0  0  0  0  0  0  0  0  0  0  0  0  0  0  0  0  0  0  0  0  0  0\n",
            "  0  0  0  0  0  0  0  0  0  0  0  0  0  0  0  0  0  0  0  0  0  0  0  0\n",
            "  0  0  0  0  0  0  0  0  0  0  0  0  0  0  0  0  0  0  0  0  0  0  0  0\n",
            "  0  0  0  0  0  0  0  0  0  0  0  0  0  0  0  0  0  0  0  0  0  0  0  0\n",
            "  0  0  0  0  0  0  0  0  0  0  0  0  0  0  0  0  0  0  0  0  0  0  0  0\n",
            "  0  0  0  0  0  0  0  0  0  0  0  0  0  0  0  0  0  0  0  0  0  0  0  0\n",
            "  0  0  0  0  0  0  0  0  0  0], shape=(586,), dtype=int32)\n"
          ]
        }
      ],
      "source": [
        "# View some data from tf dataset\n",
        "for input_f, output_f in test_data.take(1):\n",
        "  print(input_f.shape)\n",
        "  print(input_f[0])\n",
        "#   print(input_b[0])\n",
        "  print(\"************************\")\n",
        "  print(output_f.shape)\n",
        "  print(output_f[0])\n",
        "#   print(output_b[0])"
      ]
    },
    {
      "cell_type": "code",
      "execution_count": 72,
      "metadata": {
        "id": "_tCMN6qsSwpR",
        "colab": {
          "base_uri": "https://localhost:8080/"
        },
        "outputId": "0caa50a8-0015-4198-8ef9-cb0bb8811ffb"
      },
      "outputs": [
        {
          "output_type": "execute_result",
          "data": {
            "text/plain": [
              "<PrefetchDataset element_spec=(TensorSpec(shape=(None, None), dtype=tf.int32, name=None), TensorSpec(shape=(None, None), dtype=tf.int32, name=None))>"
            ]
          },
          "metadata": {},
          "execution_count": 72
        }
      ],
      "source": [
        "test_data"
      ]
    },
    {
      "cell_type": "code",
      "execution_count": 73,
      "metadata": {
        "id": "6GX6UJrasqgq"
      },
      "outputs": [],
      "source": [
        "predicted_tags = model.predict(test_data).argmax(axis=-1)"
      ]
    },
    {
      "cell_type": "code",
      "execution_count": 74,
      "metadata": {
        "id": "RmDWk6INSwpR"
      },
      "outputs": [],
      "source": [
        "predicted_tags_curtailed = []\n",
        "for i in range(len(predicted_tags)):\n",
        "    predicted_tags_curtailed.append(predicted_tags[i][:len(test_tags[i])])"
      ]
    },
    {
      "cell_type": "code",
      "execution_count": 75,
      "metadata": {
        "id": "ZiYuVxl6SwpR",
        "colab": {
          "base_uri": "https://localhost:8080/"
        },
        "outputId": "ba78614b-d0af-48f2-b169-40c39932a524"
      },
      "outputs": [
        {
          "output_type": "stream",
          "name": "stdout",
          "text": [
            "{'B-Archive': 0, 'B-CelestialObject': 1, 'B-CelestialObjectRegion': 2, 'B-CelestialRegion': 3, 'B-Citation': 4, 'B-Collaboration': 5, 'B-ComputingFacility': 6, 'B-Database': 7, 'B-Dataset': 8, 'B-EntityOfFutureInterest': 9, 'B-Event': 10, 'B-Fellowship': 11, 'B-Formula': 12, 'B-Grant': 13, 'B-Identifier': 14, 'B-Instrument': 15, 'B-Location': 16, 'B-Mission': 17, 'B-Model': 18, 'B-ObservationalTechniques': 19, 'B-Observatory': 20, 'B-Organization': 21, 'B-Person': 22, 'B-Proposal': 23, 'B-Software': 24, 'B-Survey': 25, 'B-Tag': 26, 'B-Telescope': 27, 'B-TextGarbage': 28, 'B-URL': 29, 'B-Wavelength': 30, 'I-Archive': 31, 'I-CelestialObject': 32, 'I-CelestialObjectRegion': 33, 'I-CelestialRegion': 34, 'I-Citation': 35, 'I-Collaboration': 36, 'I-ComputingFacility': 37, 'I-Database': 38, 'I-Dataset': 39, 'I-EntityOfFutureInterest': 40, 'I-Event': 41, 'I-Fellowship': 42, 'I-Formula': 43, 'I-Grant': 44, 'I-Identifier': 45, 'I-Instrument': 46, 'I-Location': 47, 'I-Mission': 48, 'I-Model': 49, 'I-ObservationalTechniques': 50, 'I-Observatory': 51, 'I-Organization': 52, 'I-Person': 53, 'I-Proposal': 54, 'I-Software': 55, 'I-Survey': 56, 'I-Tag': 57, 'I-Telescope': 58, 'I-TextGarbage': 59, 'I-URL': 60, 'I-Wavelength': 61, 'O': 62}\n"
          ]
        }
      ],
      "source": [
        "le_name_mapping = dict(zip(le.classes_, le.transform(le.classes_)))\n",
        "print(le_name_mapping)"
      ]
    },
    {
      "cell_type": "code",
      "source": [
        "le_mapping_new = {le_name_mapping[k]: k for k in le_name_mapping.keys()}\n",
        "le_mapping_new"
      ],
      "metadata": {
        "colab": {
          "base_uri": "https://localhost:8080/"
        },
        "id": "RljO70vOaprW",
        "outputId": "bc4a80ae-c1f7-42f4-c97e-1b0cdfb91158"
      },
      "execution_count": 76,
      "outputs": [
        {
          "output_type": "execute_result",
          "data": {
            "text/plain": [
              "{0: 'B-Archive',\n",
              " 1: 'B-CelestialObject',\n",
              " 2: 'B-CelestialObjectRegion',\n",
              " 3: 'B-CelestialRegion',\n",
              " 4: 'B-Citation',\n",
              " 5: 'B-Collaboration',\n",
              " 6: 'B-ComputingFacility',\n",
              " 7: 'B-Database',\n",
              " 8: 'B-Dataset',\n",
              " 9: 'B-EntityOfFutureInterest',\n",
              " 10: 'B-Event',\n",
              " 11: 'B-Fellowship',\n",
              " 12: 'B-Formula',\n",
              " 13: 'B-Grant',\n",
              " 14: 'B-Identifier',\n",
              " 15: 'B-Instrument',\n",
              " 16: 'B-Location',\n",
              " 17: 'B-Mission',\n",
              " 18: 'B-Model',\n",
              " 19: 'B-ObservationalTechniques',\n",
              " 20: 'B-Observatory',\n",
              " 21: 'B-Organization',\n",
              " 22: 'B-Person',\n",
              " 23: 'B-Proposal',\n",
              " 24: 'B-Software',\n",
              " 25: 'B-Survey',\n",
              " 26: 'B-Tag',\n",
              " 27: 'B-Telescope',\n",
              " 28: 'B-TextGarbage',\n",
              " 29: 'B-URL',\n",
              " 30: 'B-Wavelength',\n",
              " 31: 'I-Archive',\n",
              " 32: 'I-CelestialObject',\n",
              " 33: 'I-CelestialObjectRegion',\n",
              " 34: 'I-CelestialRegion',\n",
              " 35: 'I-Citation',\n",
              " 36: 'I-Collaboration',\n",
              " 37: 'I-ComputingFacility',\n",
              " 38: 'I-Database',\n",
              " 39: 'I-Dataset',\n",
              " 40: 'I-EntityOfFutureInterest',\n",
              " 41: 'I-Event',\n",
              " 42: 'I-Fellowship',\n",
              " 43: 'I-Formula',\n",
              " 44: 'I-Grant',\n",
              " 45: 'I-Identifier',\n",
              " 46: 'I-Instrument',\n",
              " 47: 'I-Location',\n",
              " 48: 'I-Mission',\n",
              " 49: 'I-Model',\n",
              " 50: 'I-ObservationalTechniques',\n",
              " 51: 'I-Observatory',\n",
              " 52: 'I-Organization',\n",
              " 53: 'I-Person',\n",
              " 54: 'I-Proposal',\n",
              " 55: 'I-Software',\n",
              " 56: 'I-Survey',\n",
              " 57: 'I-Tag',\n",
              " 58: 'I-Telescope',\n",
              " 59: 'I-TextGarbage',\n",
              " 60: 'I-URL',\n",
              " 61: 'I-Wavelength',\n",
              " 62: 'O'}"
            ]
          },
          "metadata": {},
          "execution_count": 76
        }
      ]
    },
    {
      "cell_type": "code",
      "execution_count": 77,
      "metadata": {
        "id": "JEwzRI95SwpR"
      },
      "outputs": [],
      "source": [
        "y_pred = np.concatenate(predicted_tags_curtailed).ravel()"
      ]
    },
    {
      "cell_type": "code",
      "source": [
        "y_true = np.concatenate(test_tags).ravel()"
      ],
      "metadata": {
        "id": "dsbAXBCgV17T"
      },
      "execution_count": 78,
      "outputs": []
    },
    {
      "cell_type": "code",
      "source": [
        "(y_pred == 0).sum()"
      ],
      "metadata": {
        "colab": {
          "base_uri": "https://localhost:8080/"
        },
        "id": "no5J8lgEcAaX",
        "outputId": "0a0dc30e-9729-4712-d82e-ab3997698754"
      },
      "execution_count": 79,
      "outputs": [
        {
          "output_type": "execute_result",
          "data": {
            "text/plain": [
              "3"
            ]
          },
          "metadata": {},
          "execution_count": 79
        }
      ]
    },
    {
      "cell_type": "code",
      "source": [
        "for i in range(len(y_pred)):\n",
        "  if (y_pred[i] > 63) or (y_pred[i] < 1):\n",
        "    y_pred[i] = 63"
      ],
      "metadata": {
        "id": "CCMf5vbbcUcX"
      },
      "execution_count": 80,
      "outputs": []
    },
    {
      "cell_type": "code",
      "source": [
        "y_pred_tag = np.array([le_mapping_new[token-1] for token in y_pred])\n",
        "y_true_tag = np.array([le_mapping_new[token-1] for token in y_true])"
      ],
      "metadata": {
        "id": "WQ6xFFTTYZfs"
      },
      "execution_count": 81,
      "outputs": []
    },
    {
      "cell_type": "code",
      "source": [
        "len(y_pred_tag)"
      ],
      "metadata": {
        "colab": {
          "base_uri": "https://localhost:8080/"
        },
        "id": "Ft_cqO4lbLC_",
        "outputId": "613a64c9-b8e2-47e4-e35f-6b2ca7686be7"
      },
      "execution_count": 82,
      "outputs": [
        {
          "output_type": "execute_result",
          "data": {
            "text/plain": [
              "56645"
            ]
          },
          "metadata": {},
          "execution_count": 82
        }
      ]
    },
    {
      "cell_type": "code",
      "execution_count": 83,
      "metadata": {
        "id": "sXfqtFlNs1XN"
      },
      "outputs": [],
      "source": [
        "from sklearn.metrics import accuracy_score, confusion_matrix, classification_report"
      ]
    },
    {
      "cell_type": "code",
      "execution_count": 84,
      "metadata": {
        "id": "IVi6LB_7SwpS",
        "colab": {
          "base_uri": "https://localhost:8080/"
        },
        "outputId": "8ada4b9b-a3b0-4e33-c5ec-5ca41633d74b"
      },
      "outputs": [
        {
          "output_type": "stream",
          "name": "stdout",
          "text": [
            "                           precision    recall  f1-score   support\n",
            "\n",
            "                B-Archive       0.67      0.50      0.57        20\n",
            "        B-CelestialObject       0.61      0.24      0.34       345\n",
            "  B-CelestialObjectRegion       0.00      0.00      0.00        21\n",
            "        B-CelestialRegion       0.00      0.00      0.00        20\n",
            "               B-Citation       0.74      0.82      0.78       712\n",
            "          B-Collaboration       0.33      0.08      0.13        12\n",
            "      B-ComputingFacility       0.78      0.23      0.36        30\n",
            "               B-Database       0.91      0.36      0.51        28\n",
            "                B-Dataset       0.00      0.00      0.00        78\n",
            " B-EntityOfFutureInterest       0.00      0.00      0.00         9\n",
            "                  B-Event       0.00      0.00      0.00         1\n",
            "             B-Fellowship       0.38      0.44      0.41        25\n",
            "                B-Formula       0.62      0.37      0.46       187\n",
            "                  B-Grant       0.58      0.50      0.53       339\n",
            "             B-Identifier       0.00      0.00      0.00        14\n",
            "             B-Instrument       0.00      0.00      0.00        46\n",
            "               B-Location       0.82      0.54      0.65       211\n",
            "                B-Mission       0.00      0.00      0.00         9\n",
            "                  B-Model       0.58      0.14      0.23       198\n",
            "B-ObservationalTechniques       0.00      0.00      0.00         4\n",
            "            B-Observatory       0.64      0.72      0.68        80\n",
            "           B-Organization       0.68      0.68      0.68       663\n",
            "                 B-Person       0.71      0.81      0.75       361\n",
            "               B-Proposal       0.67      0.17      0.27        12\n",
            "               B-Software       0.50      0.09      0.15       115\n",
            "                 B-Survey       0.53      0.22      0.31        72\n",
            "                    B-Tag       0.00      0.00      0.00         6\n",
            "              B-Telescope       0.45      0.41      0.43       104\n",
            "            B-TextGarbage       0.00      0.00      0.00         2\n",
            "                    B-URL       0.97      1.00      0.98        30\n",
            "             B-Wavelength       0.68      0.34      0.45       330\n",
            "                I-Archive       0.89      0.72      0.80        54\n",
            "        I-CelestialObject       0.66      0.13      0.22       192\n",
            "  I-CelestialObjectRegion       0.00      0.00      0.00        19\n",
            "        I-CelestialRegion       0.00      0.00      0.00        16\n",
            "               I-Citation       0.96      0.88      0.92      1748\n",
            "          I-Collaboration       0.43      0.38      0.40        16\n",
            "      I-ComputingFacility       0.62      0.22      0.33        45\n",
            "               I-Database       0.94      0.45      0.61        33\n",
            "                I-Dataset       0.00      0.00      0.00        33\n",
            "             I-Fellowship       0.42      0.40      0.41        80\n",
            "                I-Formula       0.75      0.69      0.72       699\n",
            "                  I-Grant       0.56      0.25      0.35       396\n",
            "             I-Identifier       0.00      0.00      0.00         3\n",
            "             I-Instrument       0.00      0.00      0.00         2\n",
            "               I-Location       0.79      0.31      0.44        49\n",
            "                I-Mission       0.00      0.00      0.00         4\n",
            "                  I-Model       0.00      0.00      0.00       118\n",
            "I-ObservationalTechniques       0.00      0.00      0.00         4\n",
            "            I-Observatory       0.59      0.77      0.67        70\n",
            "           I-Organization       0.75      0.81      0.78      1028\n",
            "                 I-Person       0.58      0.80      0.67       182\n",
            "               I-Proposal       0.00      0.00      0.00         4\n",
            "               I-Software       0.75      0.07      0.12        45\n",
            "                 I-Survey       0.54      0.29      0.37        52\n",
            "                    I-Tag       0.00      0.00      0.00         8\n",
            "              I-Telescope       0.67      0.50      0.57        40\n",
            "            I-TextGarbage       0.00      0.00      0.00         4\n",
            "             I-Wavelength       0.59      0.32      0.42       140\n",
            "                        O       0.95      0.99      0.97     47477\n",
            "\n",
            "                 accuracy                           0.93     56645\n",
            "                macro avg       0.42      0.29      0.32     56645\n",
            "             weighted avg       0.91      0.93      0.92     56645\n",
            "\n"
          ]
        }
      ],
      "source": [
        "print(classification_report(y_true_tag, y_pred_tag, zero_division=0))"
      ]
    },
    {
      "cell_type": "code",
      "execution_count": 88,
      "metadata": {
        "id": "ClrotDJhSwpS",
        "colab": {
          "base_uri": "https://localhost:8080/"
        },
        "outputId": "97d220b9-dbf3-483f-e70b-cdc02b166e9c"
      },
      "outputs": [
        {
          "output_type": "stream",
          "name": "stdout",
          "text": [
            "                         precision    recall  f1-score       support\n",
            "B-Archive                 0.666667  0.500000  0.571429     20.000000\n",
            "B-CelestialObject         0.611940  0.237681  0.342380    345.000000\n",
            "B-CelestialObjectRegion   0.000000  0.000000  0.000000     21.000000\n",
            "B-CelestialRegion         0.000000  0.000000  0.000000     20.000000\n",
            "B-Citation                0.740127  0.816011  0.776219    712.000000\n",
            "...                            ...       ...       ...           ...\n",
            "I-Wavelength              0.592105  0.321429  0.416667    140.000000\n",
            "O                         0.954179  0.990838  0.972163  47477.000000\n",
            "accuracy                  0.927143  0.927143  0.927143      0.927143\n",
            "macro avg                 0.421338  0.294021  0.324286  56645.000000\n",
            "weighted avg              0.912624  0.927143  0.915679  56645.000000\n",
            "\n",
            "[63 rows x 4 columns]\n"
          ]
        }
      ],
      "source": [
        "report = classification_report(y_true_tag, y_pred_tag, zero_division=0, output_dict=True)\n",
        "df_report = pd.DataFrame(report).transpose()\n",
        "print(df_report)"
      ]
    },
    {
      "cell_type": "code",
      "execution_count": 89,
      "metadata": {
        "id": "eKgaoS9wSwpT",
        "colab": {
          "base_uri": "https://localhost:8080/"
        },
        "outputId": "435b09fb-8b49-4605-f068-483d9f478e25"
      },
      "outputs": [
        {
          "output_type": "stream",
          "name": "stdout",
          "text": [
            "                   precision    recall  f1-score  support\n",
            "weighted avg        0.912624  0.927143  0.915679  56645.0\n",
            "macro avg           0.421338  0.294021  0.324286  56645.0\n",
            "O                   0.954179  0.990838  0.972163  47477.0\n",
            "I-Citation          0.955928  0.881007  0.916940   1748.0\n",
            "I-Organization      0.748649  0.808366  0.777362   1028.0\n",
            "B-Citation          0.740127  0.816011  0.776219    712.0\n",
            "I-Formula           0.750000  0.690987  0.719285    699.0\n",
            "B-Organization      0.680180  0.683258  0.681716    663.0\n",
            "I-Grant             0.564972  0.252525  0.349040    396.0\n",
            "B-Person            0.705314  0.808864  0.753548    361.0\n",
            "B-CelestialObject   0.611940  0.237681  0.342380    345.0\n",
            "B-Grant             0.576792  0.498525  0.534810    339.0\n",
            "B-Wavelength        0.678788  0.339394  0.452525    330.0\n",
            "B-Location          0.820144  0.540284  0.651429    211.0\n",
            "B-Model             0.583333  0.141414  0.227642    198.0\n",
            "I-CelestialObject   0.657895  0.130208  0.217391    192.0\n",
            "B-Formula           0.621622  0.368984  0.463087    187.0\n",
            "I-Person            0.580000  0.796703  0.671296    182.0\n",
            "I-Wavelength        0.592105  0.321429  0.416667    140.0\n",
            "I-Model             0.000000  0.000000  0.000000    118.0\n",
            "B-Software          0.500000  0.086957  0.148148    115.0\n",
            "B-Telescope         0.452632  0.413462  0.432161    104.0\n",
            "I-Fellowship        0.421053  0.400000  0.410256     80.0\n",
            "B-Observatory       0.644444  0.725000  0.682353     80.0\n",
            "B-Dataset           0.000000  0.000000  0.000000     78.0\n"
          ]
        }
      ],
      "source": [
        "df_report_short = df_report.sort_values(by='support', ascending=False)[:25]\n",
        "print(df_report_short)"
      ]
    },
    {
      "cell_type": "code",
      "source": [
        "import gc\n",
        "gc.collect()"
      ],
      "metadata": {
        "colab": {
          "base_uri": "https://localhost:8080/"
        },
        "id": "dMTF12a3dwNW",
        "outputId": "7ef65468-5354-4a3a-d37d-109d84981e60"
      },
      "execution_count": 87,
      "outputs": [
        {
          "output_type": "execute_result",
          "data": {
            "text/plain": [
              "5593"
            ]
          },
          "metadata": {},
          "execution_count": 87
        }
      ]
    },
    {
      "cell_type": "code",
      "source": [
        ""
      ],
      "metadata": {
        "id": "4wXFFgCG4p1t"
      },
      "execution_count": null,
      "outputs": []
    }
  ],
  "metadata": {
    "accelerator": "GPU",
    "colab": {
      "name": "univ-project-2lstm-processing.ipynb",
      "provenance": [],
      "collapsed_sections": []
    },
    "gpuClass": "standard",
    "kernelspec": {
      "display_name": "Python 3",
      "language": "python",
      "name": "python3"
    },
    "language_info": {
      "codemirror_mode": {
        "name": "ipython",
        "version": 3
      },
      "file_extension": ".py",
      "mimetype": "text/x-python",
      "name": "python",
      "nbconvert_exporter": "python",
      "pygments_lexer": "ipython3",
      "version": "3.7.12"
    }
  },
  "nbformat": 4,
  "nbformat_minor": 0
}